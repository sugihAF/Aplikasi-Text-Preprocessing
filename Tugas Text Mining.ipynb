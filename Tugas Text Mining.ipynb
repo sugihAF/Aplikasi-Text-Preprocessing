{
 "cells": [
  {
   "cell_type": "code",
   "execution_count": 1,
   "metadata": {},
   "outputs": [],
   "source": [
    "import pandas as pd\n",
    "import numpy as np\n",
    "import nltk\n",
    "from nltk.tag import CRFTagger\n",
    "import pathlib\n",
    "from docx import Document\n",
    "import slate3k as slate"
   ]
  },
  {
   "cell_type": "code",
   "execution_count": 2,
   "metadata": {},
   "outputs": [],
   "source": [
    "%gui qt\n",
    "\n",
    "from PyQt5.QtWidgets import QFileDialog\n",
    "\n",
    "def gui_fname(dir=None):\n",
    "    \"\"\"Select a file via a dialog and return the file name.\"\"\"\n",
    "    if dir is None: dir ='./'\n",
    "    fname = QFileDialog.getOpenFileName(None, \"Select data file...\", \n",
    "                dir, filter=\"All files (*);; SM Files (*.sm)\")\n",
    "    return fname[0]"
   ]
  },
  {
   "cell_type": "code",
   "execution_count": 3,
   "metadata": {},
   "outputs": [],
   "source": [
    "def extract_text(suffix,file):\n",
    "    if suffix == '.docx':\n",
    "        doc = Document(file)\n",
    "        for para in doc.paragraphs:\n",
    "            return(para.text)\n",
    "    elif suffix == '.txt':\n",
    "        f = open(file, \"r\")\n",
    "        return(f.read())\n",
    "    elif suffix == '.pdf':\n",
    "        with open(file,'rb') as f:\n",
    "            extracted_text = slate.PDF(f)\n",
    "            return(extracted_text)\n",
    "    elif suffix == '.csv':\n",
    "        df = pd.read_csv(file)\n",
    "        return(df.to_string())"
   ]
  },
  {
   "cell_type": "code",
   "execution_count": 4,
   "metadata": {},
   "outputs": [],
   "source": [
    "file = gui_fname()\n",
    "file_type = pathlib.Path(file).suffix"
   ]
  },
  {
   "cell_type": "code",
   "execution_count": 7,
   "metadata": {},
   "outputs": [
    {
     "name": "stdout",
     "output_type": "stream",
     "text": [
      "C:/Users/sugih/Documents/CODES/Text Mining/cobatext.txt\n"
     ]
    }
   ],
   "source": [
    "print(file)"
   ]
  },
  {
   "cell_type": "code",
   "execution_count": 5,
   "metadata": {},
   "outputs": [],
   "source": [
    "text = extract_text(file_type,file)"
   ]
  },
  {
   "cell_type": "markdown",
   "metadata": {},
   "source": [
    "---\n",
    "TOKENIZATION\n",
    "---"
   ]
  },
  {
   "cell_type": "code",
   "execution_count": 6,
   "metadata": {},
   "outputs": [],
   "source": [
    "from nltk.tokenize import word_tokenize"
   ]
  },
  {
   "cell_type": "code",
   "execution_count": 7,
   "metadata": {},
   "outputs": [
    {
     "name": "stdout",
     "output_type": "stream",
     "text": [
      "Sebagian masyarakat percaya bahwa tusuk jarum di daun telinga menjadi pertolongan pertama serangan stroke. Ternyata, informasi tersebut salah besar. Anda mungkin pernah membaca postingan di media sosial atau mengetahui informasi tentang metode tusuk jarum di daun telinga sebagai pertolongan pertama pada serangan stroke. Pesan ini bahkan terus berulang disebarkan dan masih saja banyak yang mempercayainya. Di dalam pesan tersebut dijelaskan bagaimana tindakan pertama yang harus dilakukan pada pasien stroke. Jika pasien jatuh seperti di kamar mandi atau kamar tidur, Anda diimbau untuk tidak memindahkannya ke manapun. Selanjutnya, Anda dianjurkan untuk mengambil jarum dan mensterilkannya kemudian menusukkannya pada jari-jari. Setelah itu, keluarkan darah korban setetes atau dua tetes. Masih menurut pesan tersebut, jika mulut pasien miring maka tarik kedua daun telinganya sampai merah dan langsung tusuk bagian bawah daun telinga dengan jarum steril sampai darah keluar kurang lebih 1-2 tetes. Hal ini dipercaya melancarkan dan membantu oksigen masuk ke dalam tubuh pasien serangan stroke. Bagaimana pandangan medis terkait informasi tersebut? Tusuk daun telinga dengan jarum untuk serangan stroke itu hanya kepercayaan masyarakat, tapi belum terbukti secara ilmiah. Kami sebagai perawat harus evidence based. Saya tidak menyarankan hal itu dilakukan pada pasien stroke. Informasi yang benar harus tersampaikan, kata Ns. Enny Mulyatsih, S.Kep, M.Kep, Sp. KMB, Kepala Bidang Keperawatan RS Pusat Otak Nasional, kepada Depok News usai Seminar dan Workshop Keperawatan Inovasi Penanganan Efektif Terkini, Edukasi dan Peluang Home Care pada Pasien Stroke oleh Lembaga Madaniah Health Training Centre di Rumpun Ilmu Keperawatan Universitas Indonesia, Sabtu (22/8/2015). Ns. Dede Suhartini, S.Kep selaku Kepala Ruang Stroke Unit RSCM juga tidak menemukan keterkaitan secara rasional antara tusuk jarum pada daun telinga dengan serangan stroke. Apa hubungannya orang stroke yang pembuluh darahnya lagi kekurangan oksigen, darah dikeluarkan? Belum pernah ada data. kalau ada evidence based dan hasil, kita bisa lakukan, tandasnya. Keduanya menekankan, jika Anda menemukan anggota keluarga atau seseorang terserang stroke, segera lakukan tindakan pertolongan pertama. Cari tempat yang cukup lapang dan aman, baringkan kepala pasien dengan kemiringan 30 derajat, dan jaga jalan napas lancar dengan menopang dagu serta tidak memberi makanan-minuman supaya tidak tersedak. Lakukan pertolongan pertama hingga dalam perjalanan ke rumah sakit. Pertolongan pertama tersebut terbukti mmpu mempertahankan jalan napas tetap lancar sebelum pasien dibawa ke rumah sakit untuk dipasangi infus dan oksigen. Semestinya petugas jalan umum di Indonesia diberi pelatihan pertolongan pertama terhadap serangan stroke, seperti pada polisi lalu lintas, petugas pemadam kebakaran, dan petugas jalan tol, juga masyarakat umum, simpul Enny.\n"
     ]
    }
   ],
   "source": [
    "print(text)"
   ]
  },
  {
   "cell_type": "code",
   "execution_count": 8,
   "metadata": {},
   "outputs": [],
   "source": [
    "#Lower Case\n",
    "text = text.lower()\n",
    "LoweredText = word_tokenize(text)"
   ]
  },
  {
   "cell_type": "code",
   "execution_count": 9,
   "metadata": {},
   "outputs": [],
   "source": [
    "#Remove Punctuation and Number\n",
    "TokenizedText = [word for word in LoweredText if word.isalnum()]"
   ]
  },
  {
   "cell_type": "code",
   "execution_count": 10,
   "metadata": {},
   "outputs": [
    {
     "name": "stdout",
     "output_type": "stream",
     "text": [
      "['sebagian', 'masyarakat', 'percaya', 'bahwa', 'tusuk', 'jarum', 'di', 'daun', 'telinga', 'menjadi', 'pertolongan', 'pertama', 'serangan', 'stroke', 'ternyata', 'informasi', 'tersebut', 'salah', 'besar', 'anda', 'mungkin', 'pernah', 'membaca', 'postingan', 'di', 'media', 'sosial', 'atau', 'mengetahui', 'informasi', 'tentang', 'metode', 'tusuk', 'jarum', 'di', 'daun', 'telinga', 'sebagai', 'pertolongan', 'pertama', 'pada', 'serangan', 'stroke', 'pesan', 'ini', 'bahkan', 'terus', 'berulang', 'disebarkan', 'dan', 'masih', 'saja', 'banyak', 'yang', 'mempercayainya', 'di', 'dalam', 'pesan', 'tersebut', 'dijelaskan', 'bagaimana', 'tindakan', 'pertama', 'yang', 'harus', 'dilakukan', 'pada', 'pasien', 'stroke', 'jika', 'pasien', 'jatuh', 'seperti', 'di', 'kamar', 'mandi', 'atau', 'kamar', 'tidur', 'anda', 'diimbau', 'untuk', 'tidak', 'memindahkannya', 'ke', 'manapun', 'selanjutnya', 'anda', 'dianjurkan', 'untuk', 'mengambil', 'jarum', 'dan', 'mensterilkannya', 'kemudian', 'menusukkannya', 'pada', 'setelah', 'itu', 'keluarkan', 'darah', 'korban', 'setetes', 'atau', 'dua', 'tetes', 'masih', 'menurut', 'pesan', 'tersebut', 'jika', 'mulut', 'pasien', 'miring', 'maka', 'tarik', 'kedua', 'daun', 'telinganya', 'sampai', 'merah', 'dan', 'langsung', 'tusuk', 'bagian', 'bawah', 'daun', 'telinga', 'dengan', 'jarum', 'steril', 'sampai', 'darah', 'keluar', 'kurang', 'lebih', 'tetes', 'hal', 'ini', 'dipercaya', 'melancarkan', 'dan', 'membantu', 'oksigen', 'masuk', 'ke', 'dalam', 'tubuh', 'pasien', 'serangan', 'stroke', 'bagaimana', 'pandangan', 'medis', 'terkait', 'informasi', 'tersebut', 'tusuk', 'daun', 'telinga', 'dengan', 'jarum', 'untuk', 'serangan', 'stroke', 'itu', 'hanya', 'kepercayaan', 'masyarakat', 'tapi', 'belum', 'terbukti', 'secara', 'ilmiah', 'kami', 'sebagai', 'perawat', 'harus', 'evidence', 'based', 'saya', 'tidak', 'menyarankan', 'hal', 'itu', 'dilakukan', 'pada', 'pasien', 'stroke', 'informasi', 'yang', 'benar', 'harus', 'tersampaikan', 'kata', 'ns', 'enny', 'mulyatsih', 'sp', 'kmb', 'kepala', 'bidang', 'keperawatan', 'rs', 'pusat', 'otak', 'nasional', 'kepada', 'depok', 'news', 'usai', 'seminar', 'dan', 'workshop', 'keperawatan', 'inovasi', 'penanganan', 'efektif', 'terkini', 'edukasi', 'dan', 'peluang', 'home', 'care', 'pada', 'pasien', 'stroke', 'oleh', 'lembaga', 'madaniah', 'health', 'training', 'centre', 'di', 'rumpun', 'ilmu', 'keperawatan', 'universitas', 'indonesia', 'sabtu', 'ns', 'dede', 'suhartini', 'selaku', 'kepala', 'ruang', 'stroke', 'unit', 'rscm', 'juga', 'tidak', 'menemukan', 'keterkaitan', 'secara', 'rasional', 'antara', 'tusuk', 'jarum', 'pada', 'daun', 'telinga', 'dengan', 'serangan', 'stroke', 'apa', 'hubungannya', 'orang', 'stroke', 'yang', 'pembuluh', 'darahnya', 'lagi', 'kekurangan', 'oksigen', 'darah', 'dikeluarkan', 'belum', 'pernah', 'ada', 'data', 'kalau', 'ada', 'evidence', 'based', 'dan', 'hasil', 'kita', 'bisa', 'lakukan', 'tandasnya', 'keduanya', 'menekankan', 'jika', 'anda', 'menemukan', 'anggota', 'keluarga', 'atau', 'seseorang', 'terserang', 'stroke', 'segera', 'lakukan', 'tindakan', 'pertolongan', 'pertama', 'cari', 'tempat', 'yang', 'cukup', 'lapang', 'dan', 'aman', 'baringkan', 'kepala', 'pasien', 'dengan', 'kemiringan', '30', 'derajat', 'dan', 'jaga', 'jalan', 'napas', 'lancar', 'dengan', 'menopang', 'dagu', 'serta', 'tidak', 'memberi', 'supaya', 'tidak', 'tersedak', 'lakukan', 'pertolongan', 'pertama', 'hingga', 'dalam', 'perjalanan', 'ke', 'rumah', 'sakit', 'pertolongan', 'pertama', 'tersebut', 'terbukti', 'mmpu', 'mempertahankan', 'jalan', 'napas', 'tetap', 'lancar', 'sebelum', 'pasien', 'dibawa', 'ke', 'rumah', 'sakit', 'untuk', 'dipasangi', 'infus', 'dan', 'oksigen', 'semestinya', 'petugas', 'jalan', 'umum', 'di', 'indonesia', 'diberi', 'pelatihan', 'pertolongan', 'pertama', 'terhadap', 'serangan', 'stroke', 'seperti', 'pada', 'polisi', 'lalu', 'lintas', 'petugas', 'pemadam', 'kebakaran', 'dan', 'petugas', 'jalan', 'tol', 'juga', 'masyarakat', 'umum', 'simpul', 'enny']\n"
     ]
    }
   ],
   "source": [
    "print(TokenizedText)"
   ]
  },
  {
   "cell_type": "markdown",
   "metadata": {},
   "source": [
    "---\n",
    "STEMMING\n",
    "---"
   ]
  },
  {
   "cell_type": "code",
   "execution_count": 11,
   "metadata": {},
   "outputs": [
    {
     "name": "stdout",
     "output_type": "stream",
     "text": [
      "['bagi', 'masyarakat', 'percaya', 'bahwa', 'tusuk', 'jarum', 'di', 'daun', 'telinga', 'jadi', 'tolong', 'pertama', 'serang', 'stroke', 'nyata', 'informasi', 'sebut', 'salah', 'besar', 'anda', 'mungkin', 'pernah', 'baca', 'postingan', 'di', 'media', 'sosial', 'atau', 'tahu', 'informasi', 'tentang', 'metode', 'tusuk', 'jarum', 'di', 'daun', 'telinga', 'bagai', 'tolong', 'pertama', 'pada', 'serang', 'stroke', 'pesan', 'ini', 'bahkan', 'terus', 'ulang', 'sebar', 'dan', 'masih', 'saja', 'banyak', 'yang', 'percaya', 'di', 'dalam', 'pesan', 'sebut', 'jelas', 'bagaimana', 'tindak', 'pertama', 'yang', 'harus', 'laku', 'pada', 'pasien', 'stroke', 'jika', 'pasien', 'jatuh', 'seperti', 'di', 'kamar', 'mandi', 'atau', 'kamar', 'tidur', 'anda', 'imbau', 'untuk', 'tidak', 'pindah', 'ke', 'mana', 'lanjut', 'anda', 'anjur', 'untuk', 'ambil', 'jarum', 'dan', 'steril', 'kemudian', 'tusuk', 'pada', 'telah', 'itu', 'keluar', 'darah', 'korban', 'tetes', 'atau', 'dua', 'tetes', 'masih', 'turut', 'pesan', 'sebut', 'jika', 'mulut', 'pasien', 'miring', 'maka', 'tarik', 'dua', 'daun', 'telinga', 'sampai', 'merah', 'dan', 'langsung', 'tusuk', 'bagi', 'bawah', 'daun', 'telinga', 'dengan', 'jarum', 'steril', 'sampai', 'darah', 'keluar', 'kurang', 'lebih', 'tetes', 'hal', 'ini', 'percaya', 'lancar', 'dan', 'bantu', 'oksigen', 'masuk', 'ke', 'dalam', 'tubuh', 'pasien', 'serang', 'stroke', 'bagaimana', 'pandang', 'medis', 'kait', 'informasi', 'sebut', 'tusuk', 'daun', 'telinga', 'dengan', 'jarum', 'untuk', 'serang', 'stroke', 'itu', 'hanya', 'percaya', 'masyarakat', 'tapi', 'belum', 'bukti', 'cara', 'ilmiah', 'kami', 'bagai', 'awat', 'harus', 'evidence', 'based', 'saya', 'tidak', 'saran', 'hal', 'itu', 'laku', 'pada', 'pasien', 'stroke', 'informasi', 'yang', 'benar', 'harus', 'sampai', 'kata', 'ns', 'enny', 'mulyatsih', 'sp', 'kmb', 'kepala', 'bidang', 'awat', 'rs', 'pusat', 'otak', 'nasional', 'kepada', 'depok', 'news', 'usai', 'seminar', 'dan', 'workshop', 'awat', 'inovasi', 'tangan', 'efektif', 'kini', 'edukasi', 'dan', 'peluang', 'home', 'care', 'pada', 'pasien', 'stroke', 'oleh', 'lembaga', 'madaniah', 'health', 'training', 'centre', 'di', 'rumpun', 'ilmu', 'awat', 'universitas', 'indonesia', 'sabtu', 'ns', 'dede', 'suhartini', 'selaku', 'kepala', 'ruang', 'stroke', 'unit', 'rscm', 'juga', 'tidak', 'temu', 'kait', 'cara', 'rasional', 'antara', 'tusuk', 'jarum', 'pada', 'daun', 'telinga', 'dengan', 'serang', 'stroke', 'apa', 'hubung', 'orang', 'stroke', 'yang', 'buluh', 'darah', 'lagi', 'kurang', 'oksigen', 'darah', 'keluar', 'belum', 'pernah', 'ada', 'data', 'kalau', 'ada', 'evidence', 'based', 'dan', 'hasil', 'kita', 'bisa', 'laku', 'tandas', 'dua', 'tekan', 'jika', 'anda', 'temu', 'anggota', 'keluarga', 'atau', 'orang', 'serang', 'stroke', 'segera', 'laku', 'tindak', 'tolong', 'pertama', 'cari', 'tempat', 'yang', 'cukup', 'lapang', 'dan', 'aman', 'baring', 'kepala', 'pasien', 'dengan', 'miring', '30', 'derajat', 'dan', 'jaga', 'jalan', 'napas', 'lancar', 'dengan', 'topang', 'dagu', 'serta', 'tidak', 'beri', 'supaya', 'tidak', 'sedak', 'laku', 'tolong', 'pertama', 'hingga', 'dalam', 'jalan', 'ke', 'rumah', 'sakit', 'tolong', 'pertama', 'sebut', 'bukti', 'mmpu', 'tahan', 'jalan', 'napas', 'tetap', 'lancar', 'belum', 'pasien', 'bawa', 'ke', 'rumah', 'sakit', 'untuk', 'pasang', 'infus', 'dan', 'oksigen', 'mesti', 'tugas', 'jalan', 'umum', 'di', 'indonesia', 'beri', 'latih', 'tolong', 'pertama', 'hadap', 'serang', 'stroke', 'seperti', 'pada', 'polisi', 'lalu', 'lintas', 'tugas', 'madam', 'bakar', 'dan', 'tugas', 'jalan', 'tol', 'juga', 'masyarakat', 'umum', 'simpul', 'enny']\n"
     ]
    }
   ],
   "source": [
    "from Sastrawi.Stemmer.StemmerFactory import StemmerFactory\n",
    "factory = StemmerFactory()\n",
    "stemmer = factory.create_stemmer()\n",
    "StemmedText = []\n",
    "for kata in TokenizedText:\n",
    "    StemmedText.append(stemmer.stem(kata))\n",
    "print(StemmedText)"
   ]
  },
  {
   "cell_type": "code",
   "execution_count": 12,
   "metadata": {},
   "outputs": [
    {
     "name": "stdout",
     "output_type": "stream",
     "text": [
      "394\n"
     ]
    }
   ],
   "source": [
    "print(len(StemmedText))"
   ]
  },
  {
   "cell_type": "markdown",
   "metadata": {},
   "source": [
    "---\n",
    "STOPWORD REMOVAL\n",
    "---"
   ]
  },
  {
   "cell_type": "code",
   "execution_count": 17,
   "metadata": {},
   "outputs": [
    {
     "name": "stderr",
     "output_type": "stream",
     "text": [
      "[nltk_data] Downloading package stopwords to\n",
      "[nltk_data]     C:\\Users\\sugih\\AppData\\Roaming\\nltk_data...\n",
      "[nltk_data]   Unzipping corpora\\stopwords.zip.\n"
     ]
    },
    {
     "data": {
      "text/plain": [
       "True"
      ]
     },
     "execution_count": 17,
     "metadata": {},
     "output_type": "execute_result"
    }
   ],
   "source": [
    "nltk.download(\"stopwords\")"
   ]
  },
  {
   "cell_type": "code",
   "execution_count": 13,
   "metadata": {},
   "outputs": [],
   "source": [
    "from nltk.corpus import stopwords\n",
    "import gensim\n",
    "stop_words = stopwords.words('indonesian')"
   ]
  },
  {
   "cell_type": "code",
   "execution_count": 14,
   "metadata": {},
   "outputs": [],
   "source": [
    "CleanText = []\n",
    "for token in StemmedText:\n",
    "    if token not in gensim.parsing.preprocessing.STOPWORDS and len(token) > 3 and token not in stop_words:\n",
    "        CleanText.append(token)"
   ]
  },
  {
   "cell_type": "code",
   "execution_count": 15,
   "metadata": {},
   "outputs": [
    {
     "name": "stdout",
     "output_type": "stream",
     "text": [
      "['masyarakat', 'percaya', 'tusuk', 'jarum', 'daun', 'telinga', 'tolong', 'serang', 'stroke', 'nyata', 'informasi', 'salah', 'baca', 'postingan', 'media', 'sosial', 'informasi', 'metode', 'tusuk', 'jarum', 'daun', 'telinga', 'tolong', 'serang', 'stroke', 'pesan', 'ulang', 'sebar', 'percaya', 'pesan', 'tindak', 'laku', 'pasien', 'stroke', 'pasien', 'jatuh', 'kamar', 'mandi', 'kamar', 'tidur', 'imbau', 'pindah', 'anjur', 'ambil', 'jarum', 'steril', 'tusuk', 'darah', 'korban', 'tetes', 'tetes', 'pesan', 'mulut', 'pasien', 'miring', 'tarik', 'daun', 'telinga', 'merah', 'langsung', 'tusuk', 'daun', 'telinga', 'jarum', 'steril', 'darah', 'tetes', 'percaya', 'lancar', 'bantu', 'oksigen', 'masuk', 'tubuh', 'pasien', 'serang', 'stroke', 'pandang', 'medis', 'kait', 'informasi', 'tusuk', 'daun', 'telinga', 'jarum', 'serang', 'stroke', 'percaya', 'masyarakat', 'bukti', 'ilmiah', 'awat', 'evidence', 'based', 'saran', 'laku', 'pasien', 'stroke', 'informasi', 'enny', 'mulyatsih', 'kepala', 'bidang', 'awat', 'pusat', 'otak', 'nasional', 'depok', 'news', 'seminar', 'workshop', 'awat', 'inovasi', 'tangan', 'efektif', 'edukasi', 'peluang', 'home', 'care', 'pasien', 'stroke', 'lembaga', 'madaniah', 'health', 'training', 'centre', 'rumpun', 'ilmu', 'awat', 'universitas', 'indonesia', 'sabtu', 'dede', 'suhartini', 'kepala', 'ruang', 'stroke', 'unit', 'rscm', 'temu', 'kait', 'rasional', 'tusuk', 'jarum', 'daun', 'telinga', 'serang', 'stroke', 'hubung', 'orang', 'stroke', 'buluh', 'darah', 'oksigen', 'darah', 'data', 'evidence', 'based', 'hasil', 'laku', 'tekan', 'temu', 'anggota', 'keluarga', 'orang', 'serang', 'stroke', 'laku', 'tindak', 'tolong', 'cari', 'lapang', 'aman', 'baring', 'kepala', 'pasien', 'miring', 'derajat', 'jaga', 'jalan', 'napas', 'lancar', 'topang', 'dagu', 'sedak', 'laku', 'tolong', 'jalan', 'rumah', 'sakit', 'tolong', 'bukti', 'mmpu', 'tahan', 'jalan', 'napas', 'lancar', 'pasien', 'bawa', 'rumah', 'sakit', 'pasang', 'infus', 'oksigen', 'mesti', 'tugas', 'jalan', 'indonesia', 'latih', 'tolong', 'hadap', 'serang', 'stroke', 'polisi', 'lintas', 'tugas', 'madam', 'bakar', 'tugas', 'jalan', 'masyarakat', 'simpul', 'enny']\n"
     ]
    }
   ],
   "source": [
    "print(CleanText)"
   ]
  },
  {
   "cell_type": "code",
   "execution_count": 16,
   "metadata": {},
   "outputs": [
    {
     "name": "stdout",
     "output_type": "stream",
     "text": [
      "222\n"
     ]
    }
   ],
   "source": [
    "print(len(CleanText))"
   ]
  },
  {
   "cell_type": "markdown",
   "metadata": {},
   "source": [
    "---\n",
    "POS TAGGING\n",
    "---"
   ]
  },
  {
   "cell_type": "code",
   "execution_count": 17,
   "metadata": {},
   "outputs": [],
   "source": [
    "from nltk.tag import CRFTagger\n",
    "ct = CRFTagger()\n",
    "ct.set_model_file('all_indo_man_tag_corpus_model.crf.tagger')"
   ]
  },
  {
   "cell_type": "code",
   "execution_count": 18,
   "metadata": {},
   "outputs": [
    {
     "name": "stdout",
     "output_type": "stream",
     "text": [
      "[[('masyarakat', 'NN'), ('percaya', 'VB'), ('tusuk', 'VB'), ('jarum', 'NN'), ('daun', 'VB'), ('telinga', 'NN'), ('tolong', 'VB'), ('serang', 'NN'), ('stroke', 'NN'), ('nyata', 'JJ'), ('informasi', 'NN'), ('salah', 'JJ'), ('baca', 'VB'), ('postingan', 'NN'), ('media', 'NN'), ('sosial', 'JJ'), ('informasi', 'NN'), ('metode', 'NN'), ('tusuk', 'VB'), ('jarum', 'NN'), ('daun', 'VB'), ('telinga', 'NN'), ('tolong', 'VB'), ('serang', 'NN'), ('stroke', 'NN'), ('pesan', 'NN'), ('ulang', 'VB'), ('sebar', 'NN'), ('percaya', 'VB'), ('pesan', 'NN'), ('tindak', 'VB'), ('laku', 'NN'), ('pasien', 'NN'), ('stroke', 'NN'), ('pasien', 'NN'), ('jatuh', 'VB'), ('kamar', 'NN'), ('mandi', 'NN'), ('kamar', 'NN'), ('tidur', 'VB'), ('imbau', 'NN'), ('pindah', 'JJ'), ('anjur', 'NN'), ('ambil', 'VB'), ('jarum', 'NN'), ('steril', 'JJ'), ('tusuk', 'VB'), ('darah', 'NN'), ('korban', 'NN'), ('tetes', 'NN'), ('tetes', 'NN'), ('pesan', 'NN'), ('mulut', 'VB'), ('pasien', 'NN'), ('miring', 'NN'), ('tarik', 'NN'), ('daun', 'VB'), ('telinga', 'NN'), ('merah', 'JJ'), ('langsung', 'RB'), ('tusuk', 'VB'), ('daun', 'NN'), ('telinga', 'NN'), ('jarum', 'NN'), ('steril', 'NN'), ('darah', 'NN'), ('tetes', 'NN'), ('percaya', 'NN'), ('lancar', 'JJ'), ('bantu', 'VB'), ('oksigen', 'NN'), ('masuk', 'VB'), ('tubuh', 'NN'), ('pasien', 'NN'), ('serang', 'NN'), ('stroke', 'NN'), ('pandang', 'NN'), ('medis', 'JJ'), ('kait', 'VB'), ('informasi', 'NN'), ('tusuk', 'VB'), ('daun', 'NN'), ('telinga', 'NN'), ('jarum', 'NN'), ('serang', 'NN'), ('stroke', 'NN'), ('percaya', 'VB'), ('masyarakat', 'NN'), ('bukti', 'NN'), ('ilmiah', 'NN'), ('awat', 'NN'), ('evidence', 'FW'), ('based', 'FW'), ('saran', 'NN'), ('laku', 'NN'), ('pasien', 'NN'), ('stroke', 'NN'), ('informasi', 'NN'), ('enny', 'FW'), ('mulyatsih', 'NN'), ('kepala', 'NN'), ('bidang', 'NN'), ('awat', 'NN'), ('pusat', 'NN'), ('otak', 'NN'), ('nasional', 'JJ'), ('depok', 'NN'), ('news', 'FW'), ('seminar', 'FW'), ('workshop', 'FW'), ('awat', 'NN'), ('inovasi', 'NN'), ('tangan', 'NN'), ('efektif', 'JJ'), ('edukasi', 'NN'), ('peluang', 'NN'), ('home', 'FW'), ('care', 'FW'), ('pasien', 'FW'), ('stroke', 'FW'), ('lembaga', 'NN'), ('madaniah', 'NN'), ('health', 'FW'), ('training', 'FW'), ('centre', 'FW'), ('rumpun', 'SC'), ('ilmu', 'VB'), ('awat', 'NN'), ('universitas', 'NN'), ('indonesia', 'NN'), ('sabtu', 'NN'), ('dede', 'NN'), ('suhartini', 'NN'), ('kepala', 'NN'), ('ruang', 'NN'), ('stroke', 'NN'), ('unit', 'NN'), ('rscm', 'NN'), ('temu', 'VB'), ('kait', 'NN'), ('rasional', 'JJ'), ('tusuk', 'VB'), ('jarum', 'NN'), ('daun', 'VB'), ('telinga', 'NN'), ('serang', 'NN'), ('stroke', 'NN'), ('hubung', 'VB'), ('orang', 'NN'), ('stroke', 'NN'), ('buluh', 'CD'), ('darah', 'NN'), ('oksigen', 'NN'), ('darah', 'NN'), ('data', 'NN'), ('evidence', 'FW'), ('based', 'FW'), ('hasil', 'NN'), ('laku', 'NN'), ('tekan', 'VB'), ('temu', 'VB'), ('anggota', 'NN'), ('keluarga', 'NN'), ('orang', 'NN'), ('serang', 'NN'), ('stroke', 'NN'), ('laku', 'NN'), ('tindak', 'NEG'), ('tolong', 'VB'), ('cari', 'VB'), ('lapang', 'NN'), ('aman', 'JJ'), ('baring', 'NN'), ('kepala', 'NN'), ('pasien', 'NN'), ('miring', 'NN'), ('derajat', 'NN'), ('jaga', 'NN'), ('jalan', 'NN'), ('napas', 'VB'), ('lancar', 'JJ'), ('topang', 'VB'), ('dagu', 'NN'), ('sedak', 'NEG'), ('laku', 'VB'), ('tolong', 'VB'), ('jalan', 'NN'), ('rumah', 'NN'), ('sakit', 'JJ'), ('tolong', 'VB'), ('bukti', 'NN'), ('mmpu', 'JJ'), ('tahan', 'NN'), ('jalan', 'NN'), ('napas', 'VB'), ('lancar', 'JJ'), ('pasien', 'NN'), ('bawa', 'VB'), ('rumah', 'NN'), ('sakit', 'NN'), ('pasang', 'NN'), ('infus', 'NN'), ('oksigen', 'NN'), ('mesti', 'NN'), ('tugas', 'NN'), ('jalan', 'NN'), ('indonesia', 'NNP'), ('latih', 'VB'), ('tolong', 'VB'), ('hadap', 'IN'), ('serang', 'NN'), ('stroke', 'NN'), ('polisi', 'NN'), ('lintas', 'NN'), ('tugas', 'NN'), ('madam', 'VB'), ('bakar', 'NN'), ('tugas', 'NN'), ('jalan', 'NN'), ('masyarakat', 'NN'), ('simpul', 'FW'), ('enny', 'FW')]]\n"
     ]
    }
   ],
   "source": [
    "PosTagged = ct.tag_sents([CleanText])\n",
    "print(PosTagged)"
   ]
  },
  {
   "cell_type": "code",
   "execution_count": 19,
   "metadata": {},
   "outputs": [],
   "source": [
    "WordBank = []\n",
    "for word in PosTagged[0]:\n",
    "    WordBank.append(word)"
   ]
  },
  {
   "cell_type": "code",
   "execution_count": 207,
   "metadata": {},
   "outputs": [
    {
     "data": {
      "text/plain": [
       "[('masyarakat', 'NN'),\n",
       " ('percaya', 'VB'),\n",
       " ('tusuk', 'VB'),\n",
       " ('jarum', 'NN'),\n",
       " ('daun', 'VB'),\n",
       " ('telinga', 'NN'),\n",
       " ('tolong', 'VB'),\n",
       " ('serang', 'NN'),\n",
       " ('stroke', 'NN'),\n",
       " ('nyata', 'JJ'),\n",
       " ('informasi', 'NN'),\n",
       " ('salah', 'JJ'),\n",
       " ('baca', 'VB'),\n",
       " ('postingan', 'NN'),\n",
       " ('media', 'NN'),\n",
       " ('sosial', 'JJ'),\n",
       " ('informasi', 'NN'),\n",
       " ('metode', 'NN'),\n",
       " ('tusuk', 'VB'),\n",
       " ('jarum', 'NN'),\n",
       " ('daun', 'VB'),\n",
       " ('telinga', 'NN'),\n",
       " ('tolong', 'VB'),\n",
       " ('serang', 'NN'),\n",
       " ('stroke', 'NN'),\n",
       " ('pesan', 'NN'),\n",
       " ('ulang', 'VB'),\n",
       " ('sebar', 'NN'),\n",
       " ('percaya', 'VB'),\n",
       " ('pesan', 'NN'),\n",
       " ('tindak', 'VB'),\n",
       " ('laku', 'NN'),\n",
       " ('pasien', 'NN'),\n",
       " ('stroke', 'NN'),\n",
       " ('pasien', 'NN'),\n",
       " ('jatuh', 'VB'),\n",
       " ('kamar', 'NN'),\n",
       " ('mandi', 'NN'),\n",
       " ('kamar', 'NN'),\n",
       " ('tidur', 'VB'),\n",
       " ('imbau', 'NN'),\n",
       " ('pindah', 'JJ'),\n",
       " ('anjur', 'NN'),\n",
       " ('ambil', 'VB'),\n",
       " ('jarum', 'NN'),\n",
       " ('steril', 'JJ'),\n",
       " ('tusuk', 'VB'),\n",
       " ('darah', 'NN'),\n",
       " ('korban', 'NN'),\n",
       " ('tetes', 'NN'),\n",
       " ('tetes', 'NN'),\n",
       " ('pesan', 'NN'),\n",
       " ('mulut', 'VB'),\n",
       " ('pasien', 'NN'),\n",
       " ('miring', 'NN'),\n",
       " ('tarik', 'NN'),\n",
       " ('daun', 'VB'),\n",
       " ('telinga', 'NN'),\n",
       " ('merah', 'JJ'),\n",
       " ('langsung', 'RB'),\n",
       " ('tusuk', 'VB'),\n",
       " ('daun', 'NN'),\n",
       " ('telinga', 'NN'),\n",
       " ('jarum', 'NN'),\n",
       " ('steril', 'NN'),\n",
       " ('darah', 'NN'),\n",
       " ('tetes', 'NN'),\n",
       " ('percaya', 'NN'),\n",
       " ('lancar', 'JJ'),\n",
       " ('bantu', 'VB'),\n",
       " ('oksigen', 'NN'),\n",
       " ('masuk', 'VB'),\n",
       " ('tubuh', 'NN'),\n",
       " ('pasien', 'NN'),\n",
       " ('serang', 'NN'),\n",
       " ('stroke', 'NN'),\n",
       " ('pandang', 'NN'),\n",
       " ('medis', 'JJ'),\n",
       " ('kait', 'VB'),\n",
       " ('informasi', 'NN'),\n",
       " ('tusuk', 'VB'),\n",
       " ('daun', 'NN'),\n",
       " ('telinga', 'NN'),\n",
       " ('jarum', 'NN'),\n",
       " ('serang', 'NN'),\n",
       " ('stroke', 'NN'),\n",
       " ('percaya', 'VB'),\n",
       " ('masyarakat', 'NN'),\n",
       " ('bukti', 'NN'),\n",
       " ('ilmiah', 'NN'),\n",
       " ('awat', 'NN'),\n",
       " ('evidence', 'FW'),\n",
       " ('based', 'FW'),\n",
       " ('saran', 'NN'),\n",
       " ('laku', 'NN'),\n",
       " ('pasien', 'NN'),\n",
       " ('stroke', 'NN'),\n",
       " ('informasi', 'NN'),\n",
       " ('enny', 'FW'),\n",
       " ('mulyatsih', 'NN'),\n",
       " ('kepala', 'NN'),\n",
       " ('bidang', 'NN'),\n",
       " ('awat', 'NN'),\n",
       " ('pusat', 'NN'),\n",
       " ('otak', 'NN'),\n",
       " ('nasional', 'JJ'),\n",
       " ('depok', 'NN'),\n",
       " ('news', 'FW'),\n",
       " ('seminar', 'FW'),\n",
       " ('workshop', 'FW'),\n",
       " ('awat', 'NN'),\n",
       " ('inovasi', 'NN'),\n",
       " ('tangan', 'NN'),\n",
       " ('efektif', 'JJ'),\n",
       " ('edukasi', 'NN'),\n",
       " ('peluang', 'NN'),\n",
       " ('home', 'FW'),\n",
       " ('care', 'FW'),\n",
       " ('pasien', 'FW'),\n",
       " ('stroke', 'FW'),\n",
       " ('lembaga', 'NN'),\n",
       " ('madaniah', 'NN'),\n",
       " ('health', 'FW'),\n",
       " ('training', 'FW'),\n",
       " ('centre', 'FW'),\n",
       " ('rumpun', 'SC'),\n",
       " ('ilmu', 'VB'),\n",
       " ('awat', 'NN'),\n",
       " ('universitas', 'NN'),\n",
       " ('indonesia', 'NN'),\n",
       " ('sabtu', 'NN'),\n",
       " ('dede', 'NN'),\n",
       " ('suhartini', 'NN'),\n",
       " ('kepala', 'NN'),\n",
       " ('ruang', 'NN'),\n",
       " ('stroke', 'NN'),\n",
       " ('unit', 'NN'),\n",
       " ('rscm', 'NN'),\n",
       " ('temu', 'VB'),\n",
       " ('kait', 'NN'),\n",
       " ('rasional', 'JJ'),\n",
       " ('tusuk', 'VB'),\n",
       " ('jarum', 'NN'),\n",
       " ('daun', 'VB'),\n",
       " ('telinga', 'NN'),\n",
       " ('serang', 'NN'),\n",
       " ('stroke', 'NN'),\n",
       " ('hubung', 'VB'),\n",
       " ('orang', 'NN'),\n",
       " ('stroke', 'NN'),\n",
       " ('buluh', 'CD'),\n",
       " ('darah', 'NN'),\n",
       " ('oksigen', 'NN'),\n",
       " ('darah', 'NN'),\n",
       " ('data', 'NN'),\n",
       " ('evidence', 'FW'),\n",
       " ('based', 'FW'),\n",
       " ('hasil', 'NN'),\n",
       " ('laku', 'NN'),\n",
       " ('tekan', 'VB'),\n",
       " ('temu', 'VB'),\n",
       " ('anggota', 'NN'),\n",
       " ('keluarga', 'NN'),\n",
       " ('orang', 'NN'),\n",
       " ('serang', 'NN'),\n",
       " ('stroke', 'NN'),\n",
       " ('laku', 'NN'),\n",
       " ('tindak', 'NEG'),\n",
       " ('tolong', 'VB'),\n",
       " ('cari', 'VB'),\n",
       " ('lapang', 'NN'),\n",
       " ('aman', 'JJ'),\n",
       " ('baring', 'NN'),\n",
       " ('kepala', 'NN'),\n",
       " ('pasien', 'NN'),\n",
       " ('miring', 'NN'),\n",
       " ('derajat', 'NN'),\n",
       " ('jaga', 'NN'),\n",
       " ('jalan', 'NN'),\n",
       " ('napas', 'VB'),\n",
       " ('lancar', 'JJ'),\n",
       " ('topang', 'VB'),\n",
       " ('dagu', 'NN'),\n",
       " ('sedak', 'NEG'),\n",
       " ('laku', 'VB'),\n",
       " ('tolong', 'VB'),\n",
       " ('jalan', 'NN'),\n",
       " ('rumah', 'NN'),\n",
       " ('sakit', 'JJ'),\n",
       " ('tolong', 'VB'),\n",
       " ('bukti', 'NN'),\n",
       " ('mmpu', 'JJ'),\n",
       " ('tahan', 'NN'),\n",
       " ('jalan', 'NN'),\n",
       " ('napas', 'VB'),\n",
       " ('lancar', 'JJ'),\n",
       " ('pasien', 'NN'),\n",
       " ('bawa', 'VB'),\n",
       " ('rumah', 'NN'),\n",
       " ('sakit', 'NN'),\n",
       " ('pasang', 'NN'),\n",
       " ('infus', 'NN'),\n",
       " ('oksigen', 'NN'),\n",
       " ('mesti', 'NN'),\n",
       " ('tugas', 'NN'),\n",
       " ('jalan', 'NN'),\n",
       " ('indonesia', 'NNP'),\n",
       " ('latih', 'VB'),\n",
       " ('tolong', 'VB'),\n",
       " ('hadap', 'IN'),\n",
       " ('serang', 'NN'),\n",
       " ('stroke', 'NN'),\n",
       " ('polisi', 'NN'),\n",
       " ('lintas', 'NN'),\n",
       " ('tugas', 'NN'),\n",
       " ('madam', 'VB'),\n",
       " ('bakar', 'NN'),\n",
       " ('tugas', 'NN'),\n",
       " ('jalan', 'NN'),\n",
       " ('masyarakat', 'NN'),\n",
       " ('simpul', 'FW'),\n",
       " ('enny', 'FW')]"
      ]
     },
     "execution_count": 207,
     "metadata": {},
     "output_type": "execute_result"
    }
   ],
   "source": [
    "WordBank"
   ]
  },
  {
   "cell_type": "code",
   "execution_count": 20,
   "metadata": {},
   "outputs": [
    {
     "data": {
      "text/html": [
       "<div>\n",
       "<style scoped>\n",
       "    .dataframe tbody tr th:only-of-type {\n",
       "        vertical-align: middle;\n",
       "    }\n",
       "\n",
       "    .dataframe tbody tr th {\n",
       "        vertical-align: top;\n",
       "    }\n",
       "\n",
       "    .dataframe thead th {\n",
       "        text-align: right;\n",
       "    }\n",
       "</style>\n",
       "<table border=\"1\" class=\"dataframe\">\n",
       "  <thead>\n",
       "    <tr style=\"text-align: right;\">\n",
       "      <th></th>\n",
       "      <th>Word</th>\n",
       "      <th>POS</th>\n",
       "    </tr>\n",
       "  </thead>\n",
       "  <tbody>\n",
       "    <tr>\n",
       "      <th>0</th>\n",
       "      <td>masyarakat</td>\n",
       "      <td>NN</td>\n",
       "    </tr>\n",
       "    <tr>\n",
       "      <th>1</th>\n",
       "      <td>percaya</td>\n",
       "      <td>VB</td>\n",
       "    </tr>\n",
       "    <tr>\n",
       "      <th>2</th>\n",
       "      <td>tusuk</td>\n",
       "      <td>VB</td>\n",
       "    </tr>\n",
       "    <tr>\n",
       "      <th>3</th>\n",
       "      <td>jarum</td>\n",
       "      <td>NN</td>\n",
       "    </tr>\n",
       "    <tr>\n",
       "      <th>4</th>\n",
       "      <td>daun</td>\n",
       "      <td>VB</td>\n",
       "    </tr>\n",
       "    <tr>\n",
       "      <th>...</th>\n",
       "      <td>...</td>\n",
       "      <td>...</td>\n",
       "    </tr>\n",
       "    <tr>\n",
       "      <th>217</th>\n",
       "      <td>tugas</td>\n",
       "      <td>NN</td>\n",
       "    </tr>\n",
       "    <tr>\n",
       "      <th>218</th>\n",
       "      <td>jalan</td>\n",
       "      <td>NN</td>\n",
       "    </tr>\n",
       "    <tr>\n",
       "      <th>219</th>\n",
       "      <td>masyarakat</td>\n",
       "      <td>NN</td>\n",
       "    </tr>\n",
       "    <tr>\n",
       "      <th>220</th>\n",
       "      <td>simpul</td>\n",
       "      <td>FW</td>\n",
       "    </tr>\n",
       "    <tr>\n",
       "      <th>221</th>\n",
       "      <td>enny</td>\n",
       "      <td>FW</td>\n",
       "    </tr>\n",
       "  </tbody>\n",
       "</table>\n",
       "<p>222 rows × 2 columns</p>\n",
       "</div>"
      ],
      "text/plain": [
       "           Word POS\n",
       "0    masyarakat  NN\n",
       "1       percaya  VB\n",
       "2         tusuk  VB\n",
       "3         jarum  NN\n",
       "4          daun  VB\n",
       "..          ...  ..\n",
       "217       tugas  NN\n",
       "218       jalan  NN\n",
       "219  masyarakat  NN\n",
       "220      simpul  FW\n",
       "221        enny  FW\n",
       "\n",
       "[222 rows x 2 columns]"
      ]
     },
     "execution_count": 20,
     "metadata": {},
     "output_type": "execute_result"
    }
   ],
   "source": [
    "#JADIKAN DATAFRAME\n",
    "df = pd.DataFrame(WordBank, columns=['Word','POS'])\n",
    "df"
   ]
  },
  {
   "cell_type": "code",
   "execution_count": 21,
   "metadata": {},
   "outputs": [
    {
     "name": "stdout",
     "output_type": "stream",
     "text": [
      "NN     140\n",
      "VB      42\n",
      "FW      17\n",
      "JJ      16\n",
      "NEG      2\n",
      "CD       1\n",
      "RB       1\n",
      "IN       1\n",
      "NNP      1\n",
      "SC       1\n",
      "Name: POS, dtype: int64\n"
     ]
    }
   ],
   "source": [
    "#MENGHITUNG FREKUENSI KEMUNCULAN KATA\n",
    "counts = df['POS'].value_counts()\n",
    "print(counts)"
   ]
  },
  {
   "cell_type": "code",
   "execution_count": 22,
   "metadata": {},
   "outputs": [
    {
     "data": {
      "text/html": [
       "<div>\n",
       "<style scoped>\n",
       "    .dataframe tbody tr th:only-of-type {\n",
       "        vertical-align: middle;\n",
       "    }\n",
       "\n",
       "    .dataframe tbody tr th {\n",
       "        vertical-align: top;\n",
       "    }\n",
       "\n",
       "    .dataframe thead th {\n",
       "        text-align: right;\n",
       "    }\n",
       "</style>\n",
       "<table border=\"1\" class=\"dataframe\">\n",
       "  <thead>\n",
       "    <tr style=\"text-align: right;\">\n",
       "      <th></th>\n",
       "      <th>Word</th>\n",
       "      <th>POS</th>\n",
       "      <th>Frequency</th>\n",
       "    </tr>\n",
       "  </thead>\n",
       "  <tbody>\n",
       "    <tr>\n",
       "      <th>0</th>\n",
       "      <td>masyarakat</td>\n",
       "      <td>NN</td>\n",
       "      <td>3</td>\n",
       "    </tr>\n",
       "    <tr>\n",
       "      <th>1</th>\n",
       "      <td>percaya</td>\n",
       "      <td>VB</td>\n",
       "      <td>4</td>\n",
       "    </tr>\n",
       "    <tr>\n",
       "      <th>2</th>\n",
       "      <td>tusuk</td>\n",
       "      <td>VB</td>\n",
       "      <td>6</td>\n",
       "    </tr>\n",
       "    <tr>\n",
       "      <th>3</th>\n",
       "      <td>jarum</td>\n",
       "      <td>NN</td>\n",
       "      <td>6</td>\n",
       "    </tr>\n",
       "    <tr>\n",
       "      <th>4</th>\n",
       "      <td>daun</td>\n",
       "      <td>VB</td>\n",
       "      <td>6</td>\n",
       "    </tr>\n",
       "    <tr>\n",
       "      <th>...</th>\n",
       "      <td>...</td>\n",
       "      <td>...</td>\n",
       "      <td>...</td>\n",
       "    </tr>\n",
       "    <tr>\n",
       "      <th>119</th>\n",
       "      <td>polisi</td>\n",
       "      <td>NN</td>\n",
       "      <td>1</td>\n",
       "    </tr>\n",
       "    <tr>\n",
       "      <th>120</th>\n",
       "      <td>lintas</td>\n",
       "      <td>NN</td>\n",
       "      <td>1</td>\n",
       "    </tr>\n",
       "    <tr>\n",
       "      <th>121</th>\n",
       "      <td>madam</td>\n",
       "      <td>VB</td>\n",
       "      <td>1</td>\n",
       "    </tr>\n",
       "    <tr>\n",
       "      <th>122</th>\n",
       "      <td>bakar</td>\n",
       "      <td>NN</td>\n",
       "      <td>1</td>\n",
       "    </tr>\n",
       "    <tr>\n",
       "      <th>123</th>\n",
       "      <td>simpul</td>\n",
       "      <td>FW</td>\n",
       "      <td>1</td>\n",
       "    </tr>\n",
       "  </tbody>\n",
       "</table>\n",
       "<p>124 rows × 3 columns</p>\n",
       "</div>"
      ],
      "text/plain": [
       "           Word POS  Frequency\n",
       "0    masyarakat  NN          3\n",
       "1       percaya  VB          4\n",
       "2         tusuk  VB          6\n",
       "3         jarum  NN          6\n",
       "4          daun  VB          6\n",
       "..          ...  ..        ...\n",
       "119      polisi  NN          1\n",
       "120      lintas  NN          1\n",
       "121       madam  VB          1\n",
       "122       bakar  NN          1\n",
       "123      simpul  FW          1\n",
       "\n",
       "[124 rows x 3 columns]"
      ]
     },
     "execution_count": 22,
     "metadata": {},
     "output_type": "execute_result"
    }
   ],
   "source": [
    "#MENGHILANGKAN DATA BERULANG DAN MENAMBAHKAN FREKUENSI\n",
    "word_count = pd.DataFrame(df.Word.value_counts().reset_index())\n",
    "word_count.columns = ['Word', 'Frequency']\n",
    "df.drop_duplicates(\"Word\",inplace=True)\n",
    "word_pos_count = pd.merge(df,word_count,on='Word')\n",
    "word_pos_count"
   ]
  },
  {
   "cell_type": "code",
   "execution_count": 23,
   "metadata": {},
   "outputs": [
    {
     "data": {
      "text/html": [
       "<div>\n",
       "<style scoped>\n",
       "    .dataframe tbody tr th:only-of-type {\n",
       "        vertical-align: middle;\n",
       "    }\n",
       "\n",
       "    .dataframe tbody tr th {\n",
       "        vertical-align: top;\n",
       "    }\n",
       "\n",
       "    .dataframe thead th {\n",
       "        text-align: right;\n",
       "    }\n",
       "</style>\n",
       "<table border=\"1\" class=\"dataframe\">\n",
       "  <thead>\n",
       "    <tr style=\"text-align: right;\">\n",
       "      <th></th>\n",
       "      <th>Tag</th>\n",
       "      <th>Description</th>\n",
       "    </tr>\n",
       "  </thead>\n",
       "  <tbody>\n",
       "    <tr>\n",
       "      <th>0</th>\n",
       "      <td>CC</td>\n",
       "      <td>Konjungsi</td>\n",
       "    </tr>\n",
       "    <tr>\n",
       "      <th>1</th>\n",
       "      <td>CD</td>\n",
       "      <td>Kardinal</td>\n",
       "    </tr>\n",
       "    <tr>\n",
       "      <th>2</th>\n",
       "      <td>DT</td>\n",
       "      <td>Determiner/ Kata Penentu</td>\n",
       "    </tr>\n",
       "    <tr>\n",
       "      <th>3</th>\n",
       "      <td>EX</td>\n",
       "      <td>Existential there</td>\n",
       "    </tr>\n",
       "    <tr>\n",
       "      <th>4</th>\n",
       "      <td>FW</td>\n",
       "      <td>Foreign word / Kata Asing</td>\n",
       "    </tr>\n",
       "    <tr>\n",
       "      <th>5</th>\n",
       "      <td>IN</td>\n",
       "      <td>Preposisi</td>\n",
       "    </tr>\n",
       "    <tr>\n",
       "      <th>6</th>\n",
       "      <td>JJ</td>\n",
       "      <td>Adjective</td>\n",
       "    </tr>\n",
       "    <tr>\n",
       "      <th>7</th>\n",
       "      <td>JJR</td>\n",
       "      <td>Adjective, comparative</td>\n",
       "    </tr>\n",
       "    <tr>\n",
       "      <th>8</th>\n",
       "      <td>JJS</td>\n",
       "      <td>Adjective, superlative</td>\n",
       "    </tr>\n",
       "    <tr>\n",
       "      <th>9</th>\n",
       "      <td>LS</td>\n",
       "      <td>List item marker</td>\n",
       "    </tr>\n",
       "    <tr>\n",
       "      <th>10</th>\n",
       "      <td>MD</td>\n",
       "      <td>Modal</td>\n",
       "    </tr>\n",
       "    <tr>\n",
       "      <th>11</th>\n",
       "      <td>NN</td>\n",
       "      <td>Noun Sigular / Kata Benda Singular</td>\n",
       "    </tr>\n",
       "    <tr>\n",
       "      <th>12</th>\n",
       "      <td>NNS</td>\n",
       "      <td>Noun, plural / Kata Benda Plural</td>\n",
       "    </tr>\n",
       "    <tr>\n",
       "      <th>13</th>\n",
       "      <td>NNP</td>\n",
       "      <td>Proper noun, singular</td>\n",
       "    </tr>\n",
       "    <tr>\n",
       "      <th>14</th>\n",
       "      <td>NNPS</td>\n",
       "      <td>Proper noun, plural</td>\n",
       "    </tr>\n",
       "    <tr>\n",
       "      <th>15</th>\n",
       "      <td>PDT</td>\n",
       "      <td>Predeterminer</td>\n",
       "    </tr>\n",
       "    <tr>\n",
       "      <th>16</th>\n",
       "      <td>POS</td>\n",
       "      <td>Possessive ending</td>\n",
       "    </tr>\n",
       "    <tr>\n",
       "      <th>17</th>\n",
       "      <td>PRP</td>\n",
       "      <td>Personal pronoun</td>\n",
       "    </tr>\n",
       "    <tr>\n",
       "      <th>18</th>\n",
       "      <td>PRP</td>\n",
       "      <td>Possessive pronoun</td>\n",
       "    </tr>\n",
       "    <tr>\n",
       "      <th>19</th>\n",
       "      <td>RB</td>\n",
       "      <td>Adverb</td>\n",
       "    </tr>\n",
       "    <tr>\n",
       "      <th>20</th>\n",
       "      <td>RBR</td>\n",
       "      <td>Adverb, comparative</td>\n",
       "    </tr>\n",
       "    <tr>\n",
       "      <th>21</th>\n",
       "      <td>RBS</td>\n",
       "      <td>Adverb, superlative</td>\n",
       "    </tr>\n",
       "    <tr>\n",
       "      <th>22</th>\n",
       "      <td>RP</td>\n",
       "      <td>Particle</td>\n",
       "    </tr>\n",
       "    <tr>\n",
       "      <th>23</th>\n",
       "      <td>SYM</td>\n",
       "      <td>Symbol</td>\n",
       "    </tr>\n",
       "    <tr>\n",
       "      <th>24</th>\n",
       "      <td>TO</td>\n",
       "      <td>to</td>\n",
       "    </tr>\n",
       "    <tr>\n",
       "      <th>25</th>\n",
       "      <td>UH</td>\n",
       "      <td>Interjection</td>\n",
       "    </tr>\n",
       "    <tr>\n",
       "      <th>26</th>\n",
       "      <td>VB</td>\n",
       "      <td>Verb, base form / kata kerja dasar</td>\n",
       "    </tr>\n",
       "    <tr>\n",
       "      <th>27</th>\n",
       "      <td>VBD</td>\n",
       "      <td>Verb, past tense / kata kerja</td>\n",
       "    </tr>\n",
       "    <tr>\n",
       "      <th>28</th>\n",
       "      <td>VBG</td>\n",
       "      <td>Verb, gerund or present participle</td>\n",
       "    </tr>\n",
       "    <tr>\n",
       "      <th>29</th>\n",
       "      <td>VBN</td>\n",
       "      <td>Verb, past participle</td>\n",
       "    </tr>\n",
       "    <tr>\n",
       "      <th>30</th>\n",
       "      <td>VBP</td>\n",
       "      <td>Verb, non-3rd person singular present</td>\n",
       "    </tr>\n",
       "    <tr>\n",
       "      <th>31</th>\n",
       "      <td>VBZ</td>\n",
       "      <td>Verb, 3rd person singular present</td>\n",
       "    </tr>\n",
       "    <tr>\n",
       "      <th>32</th>\n",
       "      <td>WDT</td>\n",
       "      <td>Wh-determiner</td>\n",
       "    </tr>\n",
       "    <tr>\n",
       "      <th>33</th>\n",
       "      <td>WP</td>\n",
       "      <td>Wh-pronoun</td>\n",
       "    </tr>\n",
       "    <tr>\n",
       "      <th>34</th>\n",
       "      <td>WP</td>\n",
       "      <td>Possessive wh-pronoun</td>\n",
       "    </tr>\n",
       "    <tr>\n",
       "      <th>35</th>\n",
       "      <td>WRB</td>\n",
       "      <td>Wh-adverb</td>\n",
       "    </tr>\n",
       "  </tbody>\n",
       "</table>\n",
       "</div>"
      ],
      "text/plain": [
       "     Tag                            Description\n",
       "0     CC                              Konjungsi\n",
       "1     CD                               Kardinal\n",
       "2     DT               Determiner/ Kata Penentu\n",
       "3     EX                     Existential there \n",
       "4     FW              Foreign word / Kata Asing\n",
       "5     IN                              Preposisi\n",
       "6     JJ                              Adjective\n",
       "7    JJR                 Adjective, comparative\n",
       "8    JJS                 Adjective, superlative\n",
       "9     LS                       List item marker\n",
       "10    MD                                  Modal\n",
       "11    NN     Noun Sigular / Kata Benda Singular\n",
       "12   NNS       Noun, plural / Kata Benda Plural\n",
       "13   NNP                  Proper noun, singular\n",
       "14  NNPS                    Proper noun, plural\n",
       "15   PDT                          Predeterminer\n",
       "16   POS                      Possessive ending\n",
       "17   PRP                       Personal pronoun\n",
       "18   PRP                     Possessive pronoun\n",
       "19    RB                                 Adverb\n",
       "20   RBR                    Adverb, comparative\n",
       "21   RBS                    Adverb, superlative\n",
       "22    RP                               Particle\n",
       "23   SYM                                 Symbol\n",
       "24    TO                                     to\n",
       "25    UH                           Interjection\n",
       "26    VB     Verb, base form / kata kerja dasar\n",
       "27   VBD          Verb, past tense / kata kerja\n",
       "28   VBG     Verb, gerund or present participle\n",
       "29   VBN                  Verb, past participle\n",
       "30   VBP  Verb, non-3rd person singular present\n",
       "31   VBZ      Verb, 3rd person singular present\n",
       "32   WDT                          Wh-determiner\n",
       "33    WP                             Wh-pronoun\n",
       "34    WP                  Possessive wh-pronoun\n",
       "35   WRB                              Wh-adverb"
      ]
     },
     "execution_count": 23,
     "metadata": {},
     "output_type": "execute_result"
    }
   ],
   "source": [
    "file = 'Penn-Treebank-POS-Tag.csv'\n",
    "treebank = pd.read_csv(file)\n",
    "treebank.drop(columns = 'Number', inplace=True)\n",
    "treebank"
   ]
  },
  {
   "cell_type": "code",
   "execution_count": 34,
   "metadata": {},
   "outputs": [
    {
     "name": "stdout",
     "output_type": "stream",
     "text": [
      "{<zip object at 0x00000138B6FE1A88>}\n"
     ]
    }
   ],
   "source": [
    "value = treebank[\"Description\"].to_list()\n",
    "key = treebank['Tag'].to_list()"
   ]
  },
  {
   "cell_type": "code",
   "execution_count": 38,
   "metadata": {},
   "outputs": [],
   "source": [
    "pos_dict = {}\n",
    "values = treebank[\"Description\"].to_list()\n",
    "keys = treebank['Tag'].to_list()\n",
    "for key in keys:\n",
    "    for value in values:\n",
    "        pos_dict[key] = value\n",
    "        values.remove(value)\n",
    "        break  "
   ]
  },
  {
   "cell_type": "code",
   "execution_count": 56,
   "metadata": {
    "scrolled": false
   },
   "outputs": [
    {
     "data": {
      "text/html": [
       "<div>\n",
       "<style scoped>\n",
       "    .dataframe tbody tr th:only-of-type {\n",
       "        vertical-align: middle;\n",
       "    }\n",
       "\n",
       "    .dataframe tbody tr th {\n",
       "        vertical-align: top;\n",
       "    }\n",
       "\n",
       "    .dataframe thead th {\n",
       "        text-align: right;\n",
       "    }\n",
       "</style>\n",
       "<table border=\"1\" class=\"dataframe\">\n",
       "  <thead>\n",
       "    <tr style=\"text-align: right;\">\n",
       "      <th></th>\n",
       "      <th>Word</th>\n",
       "      <th>POS</th>\n",
       "      <th>Frequency</th>\n",
       "      <th>Keterangan</th>\n",
       "    </tr>\n",
       "  </thead>\n",
       "  <tbody>\n",
       "    <tr>\n",
       "      <th>0</th>\n",
       "      <td>stroke</td>\n",
       "      <td>NN</td>\n",
       "      <td>12</td>\n",
       "      <td>Noun Sigular / Kata Benda Singular</td>\n",
       "    </tr>\n",
       "    <tr>\n",
       "      <th>1</th>\n",
       "      <td>pasien</td>\n",
       "      <td>NN</td>\n",
       "      <td>8</td>\n",
       "      <td>Noun Sigular / Kata Benda Singular</td>\n",
       "    </tr>\n",
       "    <tr>\n",
       "      <th>2</th>\n",
       "      <td>serang</td>\n",
       "      <td>NN</td>\n",
       "      <td>7</td>\n",
       "      <td>Noun Sigular / Kata Benda Singular</td>\n",
       "    </tr>\n",
       "    <tr>\n",
       "      <th>3</th>\n",
       "      <td>tusuk</td>\n",
       "      <td>VB</td>\n",
       "      <td>6</td>\n",
       "      <td>Verb, base form / kata kerja dasar</td>\n",
       "    </tr>\n",
       "    <tr>\n",
       "      <th>4</th>\n",
       "      <td>jarum</td>\n",
       "      <td>NN</td>\n",
       "      <td>6</td>\n",
       "      <td>Noun Sigular / Kata Benda Singular</td>\n",
       "    </tr>\n",
       "    <tr>\n",
       "      <th>...</th>\n",
       "      <td>...</td>\n",
       "      <td>...</td>\n",
       "      <td>...</td>\n",
       "      <td>...</td>\n",
       "    </tr>\n",
       "    <tr>\n",
       "      <th>119</th>\n",
       "      <td>derajat</td>\n",
       "      <td>NN</td>\n",
       "      <td>1</td>\n",
       "      <td>Noun Sigular / Kata Benda Singular</td>\n",
       "    </tr>\n",
       "    <tr>\n",
       "      <th>120</th>\n",
       "      <td>jaga</td>\n",
       "      <td>NN</td>\n",
       "      <td>1</td>\n",
       "      <td>Noun Sigular / Kata Benda Singular</td>\n",
       "    </tr>\n",
       "    <tr>\n",
       "      <th>121</th>\n",
       "      <td>mmpu</td>\n",
       "      <td>JJ</td>\n",
       "      <td>1</td>\n",
       "      <td>Adjective</td>\n",
       "    </tr>\n",
       "    <tr>\n",
       "      <th>122</th>\n",
       "      <td>centre</td>\n",
       "      <td>FW</td>\n",
       "      <td>1</td>\n",
       "      <td>Foreign word / Kata Asing</td>\n",
       "    </tr>\n",
       "    <tr>\n",
       "      <th>123</th>\n",
       "      <td>simpul</td>\n",
       "      <td>FW</td>\n",
       "      <td>1</td>\n",
       "      <td>Foreign word / Kata Asing</td>\n",
       "    </tr>\n",
       "  </tbody>\n",
       "</table>\n",
       "<p>124 rows × 4 columns</p>\n",
       "</div>"
      ],
      "text/plain": [
       "        Word POS  Frequency                          Keterangan\n",
       "0     stroke  NN         12  Noun Sigular / Kata Benda Singular\n",
       "1     pasien  NN          8  Noun Sigular / Kata Benda Singular\n",
       "2     serang  NN          7  Noun Sigular / Kata Benda Singular\n",
       "3      tusuk  VB          6  Verb, base form / kata kerja dasar\n",
       "4      jarum  NN          6  Noun Sigular / Kata Benda Singular\n",
       "..       ...  ..        ...                                 ...\n",
       "119  derajat  NN          1  Noun Sigular / Kata Benda Singular\n",
       "120     jaga  NN          1  Noun Sigular / Kata Benda Singular\n",
       "121     mmpu  JJ          1                           Adjective\n",
       "122   centre  FW          1           Foreign word / Kata Asing\n",
       "123   simpul  FW          1           Foreign word / Kata Asing\n",
       "\n",
       "[124 rows x 4 columns]"
      ]
     },
     "execution_count": 56,
     "metadata": {},
     "output_type": "execute_result"
    }
   ],
   "source": [
    "keterangan = []\n",
    "for pos in word_pos_count['POS']:\n",
    "    if pos in pos_dict.keys():\n",
    "        keterangan.append(pos_dict[pos])\n",
    "    else:\n",
    "        keterangan.append(\"Tidak Diketahui\")\n",
    "word_pos_count['Keterangan'] = keterangan\n",
    "word_pos_count.sort_values('Frequency',ascending=False,ignore_index=True,inplace=True)\n",
    "word_pos_count"
   ]
  },
  {
   "cell_type": "code",
   "execution_count": null,
   "metadata": {},
   "outputs": [],
   "source": [
    "keterangan = []\n",
    "for kata in word_pos_count['POS']:\n",
    "    if kata == 'NN':\n",
    "        keterangan.append(\"Kata Benda (Noun)\")\n",
    "    elif kata == 'VB':\n",
    "        keterangan.append(\"Kata Keja (Verb)\")\n",
    "    elif kata == 'JJ':\n",
    "        keterangan.append(\"Kata Sifat (Adjective)\")\n",
    "    elif kata == 'FW':\n",
    "        keterangan.append(\"Kata Asing (Foreign Word)\")\n",
    "    elif kata == 'VB':\n",
    "        keterangan.append(\"Kata Keja (Verb)\")\n",
    "    elif kata == 'IN':\n",
    "        keterangan.append(\"Preposisi\")\n",
    "    elif kata == 'CD':\n",
    "        keterangan.append(\"Cardinal\")\n",
    "    elif kata == 'SC':\n",
    "        keterangan.append(\"Kata Keja (Verb)\")"
   ]
  },
  {
   "cell_type": "markdown",
   "metadata": {},
   "source": [
    "---\n",
    "WORDCLOUD\n",
    "---"
   ]
  },
  {
   "cell_type": "code",
   "execution_count": 58,
   "metadata": {},
   "outputs": [],
   "source": [
    "from wordcloud import WordCloud\n",
    "cloud = \" \".join(CleanText)\n",
    "wordCloud = WordCloud(width=800, height=400,collocations = False, background_color = 'white').generate(cloud)"
   ]
  },
  {
   "cell_type": "code",
   "execution_count": 60,
   "metadata": {},
   "outputs": [
    {
     "data": {
      "image/png": "[encoded data removed]",
      "text/plain": [
       "<Figure size 720x720 with 1 Axes>"
      ]
     },
     "metadata": {
      "needs_background": "light"
     },
     "output_type": "display_data"
    }
   ],
   "source": [
    "import matplotlib.pyplot as plt\n",
    "plt.figure(figsize=(10,10))\n",
    "plt.imshow(wordCloud, interpolation='bilinear')\n",
    "plt.axis(\"off\")\n",
    "plt.show()"
   ]
  },
  {
   "cell_type": "markdown",
   "metadata": {},
   "source": [
    "---\n",
    "TRAIN\n",
    "---"
   ]
  },
  {
   "cell_type": "code",
   "execution_count": 26,
   "metadata": {},
   "outputs": [
    {
     "name": "stderr",
     "output_type": "stream",
     "text": [
      "C:\\Users\\sugih\\anaconda3\\lib\\site-packages\\ipykernel_launcher.py:2: DeprecationWarning: Call to deprecated function (or staticmethod) load_corpus. (Use 'flair.datasets' instead.) -- Deprecated since version 0.4.1.\n",
      "  \n"
     ]
    },
    {
     "name": "stdout",
     "output_type": "stream",
     "text": [
      "2021-11-02 14:54:55,134 https://raw.githubusercontent.com/UniversalDependencies/UD_Indonesian-GSD/master/id_gsd-ud-dev.conllu not found in cache, downloading to C:\\Users\\sugih\\AppData\\Local\\Temp\\tmpyxc0ccqq\n"
     ]
    },
    {
     "name": "stderr",
     "output_type": "stream",
     "text": [
      "971025B [00:00, 9191877.93B/s]                                                                                         "
     ]
    },
    {
     "name": "stdout",
     "output_type": "stream",
     "text": [
      "2021-11-02 14:54:55,338 copying C:\\Users\\sugih\\AppData\\Local\\Temp\\tmpyxc0ccqq to cache at C:\\Users\\sugih\\.flair\\datasets\\ud_indonesian\\id_gsd-ud-dev.conllu\n",
      "2021-11-02 14:54:55,341 removing temp file C:\\Users\\sugih\\AppData\\Local\\Temp\\tmpyxc0ccqq\n"
     ]
    },
    {
     "name": "stderr",
     "output_type": "stream",
     "text": [
      "\n"
     ]
    },
    {
     "name": "stdout",
     "output_type": "stream",
     "text": [
      "2021-11-02 14:54:55,878 https://raw.githubusercontent.com/UniversalDependencies/UD_Indonesian-GSD/master/id_gsd-ud-test.conllu not found in cache, downloading to C:\\Users\\sugih\\AppData\\Local\\Temp\\tmpqjmp_57x\n"
     ]
    },
    {
     "name": "stderr",
     "output_type": "stream",
     "text": [
      "906905B [00:00, 14397832.17B/s]                                                                                        "
     ]
    },
    {
     "name": "stdout",
     "output_type": "stream",
     "text": [
      "2021-11-02 14:54:56,029 copying C:\\Users\\sugih\\AppData\\Local\\Temp\\tmpqjmp_57x to cache at C:\\Users\\sugih\\.flair\\datasets\\ud_indonesian\\id_gsd-ud-test.conllu\n",
      "2021-11-02 14:54:56,033 removing temp file C:\\Users\\sugih\\AppData\\Local\\Temp\\tmpqjmp_57x\n"
     ]
    },
    {
     "name": "stderr",
     "output_type": "stream",
     "text": [
      "\n"
     ]
    },
    {
     "name": "stdout",
     "output_type": "stream",
     "text": [
      "2021-11-02 14:54:57,232 https://raw.githubusercontent.com/UniversalDependencies/UD_Indonesian-GSD/master/id_gsd-ud-train.conllu not found in cache, downloading to C:\\Users\\sugih\\AppData\\Local\\Temp\\tmp3_kd0jw0\n"
     ]
    },
    {
     "name": "stderr",
     "output_type": "stream",
     "text": [
      "7527224B [00:00, 15565911.07B/s]                                                                                       "
     ]
    },
    {
     "name": "stdout",
     "output_type": "stream",
     "text": [
      "2021-11-02 14:54:57,813 copying C:\\Users\\sugih\\AppData\\Local\\Temp\\tmp3_kd0jw0 to cache at C:\\Users\\sugih\\.flair\\datasets\\ud_indonesian\\id_gsd-ud-train.conllu\n"
     ]
    },
    {
     "name": "stderr",
     "output_type": "stream",
     "text": [
      "\n"
     ]
    },
    {
     "name": "stdout",
     "output_type": "stream",
     "text": [
      "2021-11-02 14:54:57,825 removing temp file C:\\Users\\sugih\\AppData\\Local\\Temp\\tmp3_kd0jw0\n",
      "2021-11-02 14:54:57,828 Reading data from C:\\Users\\sugih\\.flair\\datasets\\ud_indonesian\n",
      "2021-11-02 14:54:57,829 Train: C:\\Users\\sugih\\.flair\\datasets\\ud_indonesian\\id_gsd-ud-train.conllu\n",
      "2021-11-02 14:54:57,829 Dev: C:\\Users\\sugih\\.flair\\datasets\\ud_indonesian\\id_gsd-ud-dev.conllu\n",
      "2021-11-02 14:54:57,830 Test: C:\\Users\\sugih\\.flair\\datasets\\ud_indonesian\\id_gsd-ud-test.conllu\n"
     ]
    }
   ],
   "source": [
    "from flair.data_fetcher import NLPTaskDataFetcher, NLPTask\n",
    "corpus = NLPTaskDataFetcher.load_corpus(NLPTask.UD_INDONESIAN)"
   ]
  },
  {
   "cell_type": "code",
   "execution_count": 28,
   "metadata": {},
   "outputs": [],
   "source": [
    "tag_type = 'upos'\n",
    "tag_dictionary = corpus.make_tag_dictionary(tag_type=tag_type)"
   ]
  },
  {
   "cell_type": "code",
   "execution_count": 32,
   "metadata": {},
   "outputs": [
    {
     "name": "stdout",
     "output_type": "stream",
     "text": [
      "2021-11-02 14:57:20,712 https://flair.informatik.hu-berlin.de/resources/embeddings/token/id-crawl-fasttext-300d-1M.vectors.npy not found in cache, downloading to C:\\Users\\sugih\\AppData\\Local\\Temp\\tmpccwvktd7\n"
     ]
    },
    {
     "name": "stderr",
     "output_type": "stream",
     "text": [
      "100%|██████████████████████████████████████████████████████████████| 1199998928/1199998928 [18:47<00:00, 1064534.98B/s]"
     ]
    },
    {
     "name": "stdout",
     "output_type": "stream",
     "text": [
      "2021-11-02 15:16:08,660 copying C:\\Users\\sugih\\AppData\\Local\\Temp\\tmpccwvktd7 to cache at C:\\Users\\sugih\\.flair\\embeddings\\id-crawl-fasttext-300d-1M.vectors.npy\n"
     ]
    },
    {
     "name": "stderr",
     "output_type": "stream",
     "text": [
      "\n"
     ]
    },
    {
     "name": "stdout",
     "output_type": "stream",
     "text": [
      "2021-11-02 15:16:13,372 removing temp file C:\\Users\\sugih\\AppData\\Local\\Temp\\tmpccwvktd7\n",
      "2021-11-02 15:16:14,085 https://flair.informatik.hu-berlin.de/resources/embeddings/token/id-crawl-fasttext-300d-1M not found in cache, downloading to C:\\Users\\sugih\\AppData\\Local\\Temp\\tmp5e4no_ot\n"
     ]
    },
    {
     "name": "stderr",
     "output_type": "stream",
     "text": [
      "100%|███████████████████████████████████████████████████████████████████| 39636845/39636845 [01:18<00:00, 503731.84B/s]"
     ]
    },
    {
     "name": "stdout",
     "output_type": "stream",
     "text": [
      "2021-11-02 15:17:33,937 copying C:\\Users\\sugih\\AppData\\Local\\Temp\\tmp5e4no_ot to cache at C:\\Users\\sugih\\.flair\\embeddings\\id-crawl-fasttext-300d-1M\n",
      "2021-11-02 15:17:34,000 removing temp file C:\\Users\\sugih\\AppData\\Local\\Temp\\tmp5e4no_ot\n"
     ]
    },
    {
     "name": "stderr",
     "output_type": "stream",
     "text": [
      "\n"
     ]
    },
    {
     "name": "stdout",
     "output_type": "stream",
     "text": [
      "2021-11-02 15:17:43,584 https://flair.informatik.hu-berlin.de/resources/embeddings/token/id-wiki-fasttext-300d-1M.vectors.npy not found in cache, downloading to C:\\Users\\sugih\\AppData\\Local\\Temp\\tmpii5aaii8\n"
     ]
    },
    {
     "name": "stderr",
     "output_type": "stream",
     "text": [
      "100%|█████████████████████████████████████████████████████████████████| 360822128/360822128 [06:23<00:00, 941540.85B/s]"
     ]
    },
    {
     "name": "stdout",
     "output_type": "stream",
     "text": [
      "2021-11-02 15:24:07,658 copying C:\\Users\\sugih\\AppData\\Local\\Temp\\tmpii5aaii8 to cache at C:\\Users\\sugih\\.flair\\embeddings\\id-wiki-fasttext-300d-1M.vectors.npy\n"
     ]
    },
    {
     "name": "stderr",
     "output_type": "stream",
     "text": [
      "\n"
     ]
    },
    {
     "name": "stdout",
     "output_type": "stream",
     "text": [
      "2021-11-02 15:24:08,717 removing temp file C:\\Users\\sugih\\AppData\\Local\\Temp\\tmpii5aaii8\n",
      "2021-11-02 15:24:09,386 https://flair.informatik.hu-berlin.de/resources/embeddings/token/id-wiki-fasttext-300d-1M not found in cache, downloading to C:\\Users\\sugih\\AppData\\Local\\Temp\\tmpsutioq9j\n"
     ]
    },
    {
     "name": "stderr",
     "output_type": "stream",
     "text": [
      "100%|██████████████████████████████████████████████████████████████████| 11638719/11638719 [00:08<00:00, 1444044.33B/s]"
     ]
    },
    {
     "name": "stdout",
     "output_type": "stream",
     "text": [
      "2021-11-02 15:24:18,152 copying C:\\Users\\sugih\\AppData\\Local\\Temp\\tmpsutioq9j to cache at C:\\Users\\sugih\\.flair\\embeddings\\id-wiki-fasttext-300d-1M\n",
      "2021-11-02 15:24:18,172 removing temp file C:\\Users\\sugih\\AppData\\Local\\Temp\\tmpsutioq9j\n"
     ]
    },
    {
     "name": "stderr",
     "output_type": "stream",
     "text": [
      "\n"
     ]
    }
   ],
   "source": [
    "from flair.embeddings import TokenEmbeddings, WordEmbeddings, StackedEmbeddings, BertEmbeddings\n",
    "from typing import List\n",
    "embedding_types: List[TokenEmbeddings] = [\n",
    " WordEmbeddings('id-crawl'),\n",
    " WordEmbeddings('id'),]\n",
    "embeddings: StackedEmbeddings = StackedEmbeddings(embeddings=embedding_types)"
   ]
  },
  {
   "cell_type": "code",
   "execution_count": 72,
   "metadata": {},
   "outputs": [],
   "source": [
    "from flair.models import SequenceTagger\n",
    "tagger: SequenceTagger = SequenceTagger(hidden_size=256,\n",
    "                                        embeddings=embeddings,\n",
    "                                        tag_dictionary=tag_dictionary,\n",
    "                                        tag_type=tag_type,\n",
    "                                        use_crf=True)"
   ]
  },
  {
   "cell_type": "code",
   "execution_count": 73,
   "metadata": {},
   "outputs": [
    {
     "name": "stdout",
     "output_type": "stream",
     "text": [
      "2021-11-02 16:13:14,553 ----------------------------------------------------------------------------------------------------\n",
      "2021-11-02 16:13:14,568 Model: \"SequenceTagger(\n",
      "  (embeddings): StackedEmbeddings(\n",
      "    (list_embedding_0): WordEmbeddings('id-crawl')\n",
      "    (list_embedding_1): WordEmbeddings('id')\n",
      "  )\n",
      "  (word_dropout): WordDropout(p=0.05)\n",
      "  (locked_dropout): LockedDropout(p=0.5)\n",
      "  (embedding2nn): Linear(in_features=600, out_features=600, bias=True)\n",
      "  (rnn): LSTM(600, 256, batch_first=True, bidirectional=True)\n",
      "  (linear): Linear(in_features=512, out_features=19, bias=True)\n",
      "  (beta): 1.0\n",
      "  (weights): None\n",
      "  (weight_tensor) None\n",
      ")\"\n",
      "2021-11-02 16:13:14,570 ----------------------------------------------------------------------------------------------------\n",
      "2021-11-02 16:13:14,571 Corpus: \"Corpus: 4477 train + 559 dev + 557 test sentences\"\n",
      "2021-11-02 16:13:14,572 ----------------------------------------------------------------------------------------------------\n",
      "2021-11-02 16:13:14,573 Parameters:\n",
      "2021-11-02 16:13:14,574  - learning_rate: \"0.1\"\n",
      "2021-11-02 16:13:14,574  - mini_batch_size: \"32\"\n",
      "2021-11-02 16:13:14,575  - patience: \"3\"\n",
      "2021-11-02 16:13:14,576  - anneal_factor: \"0.5\"\n",
      "2021-11-02 16:13:14,577  - max_epochs: \"10\"\n",
      "2021-11-02 16:13:14,578  - shuffle: \"True\"\n",
      "2021-11-02 16:13:14,578  - train_with_dev: \"False\"\n",
      "2021-11-02 16:13:14,578  - batch_growth_annealing: \"False\"\n",
      "2021-11-02 16:13:14,579 ----------------------------------------------------------------------------------------------------\n",
      "2021-11-02 16:13:14,581 Model training base path: \"resources\\taggers\\Indonesia-POS-TAG-Sugih\"\n",
      "2021-11-02 16:13:14,582 ----------------------------------------------------------------------------------------------------\n",
      "2021-11-02 16:13:14,584 Device: cpu\n",
      "2021-11-02 16:13:14,586 ----------------------------------------------------------------------------------------------------\n",
      "2021-11-02 16:13:14,587 Embeddings storage mode: cpu\n",
      "2021-11-02 16:13:14,601 ----------------------------------------------------------------------------------------------------\n",
      "2021-11-02 16:13:26,758 epoch 1 - iter 14/140 - loss 2.59429501 - samples/sec: 37.22 - lr: 0.100000\n",
      "2021-11-02 16:13:37,671 epoch 1 - iter 28/140 - loss 2.28392852 - samples/sec: 41.46 - lr: 0.100000\n",
      "2021-11-02 16:13:47,462 epoch 1 - iter 42/140 - loss 2.06263500 - samples/sec: 46.21 - lr: 0.100000\n",
      "2021-11-02 16:13:57,865 epoch 1 - iter 56/140 - loss 1.88573757 - samples/sec: 43.61 - lr: 0.100000\n",
      "2021-11-02 16:14:09,998 epoch 1 - iter 70/140 - loss 1.74797398 - samples/sec: 37.25 - lr: 0.100000\n",
      "2021-11-02 16:14:22,303 epoch 1 - iter 84/140 - loss 1.63917576 - samples/sec: 36.70 - lr: 0.100000\n",
      "2021-11-02 16:14:36,539 epoch 1 - iter 98/140 - loss 1.54687121 - samples/sec: 31.79 - lr: 0.100000\n",
      "2021-11-02 16:14:49,012 epoch 1 - iter 112/140 - loss 1.47264339 - samples/sec: 36.19 - lr: 0.100000\n",
      "2021-11-02 16:15:03,966 epoch 1 - iter 126/140 - loss 1.40517077 - samples/sec: 30.13 - lr: 0.100000\n",
      "2021-11-02 16:15:15,632 epoch 1 - iter 140/140 - loss 1.34930597 - samples/sec: 38.65 - lr: 0.100000\n",
      "2021-11-02 16:15:15,634 ----------------------------------------------------------------------------------------------------\n",
      "2021-11-02 16:15:15,635 EPOCH 1 done: loss 1.3493 - lr 0.1000000\n",
      "2021-11-02 16:15:25,195 DEV : loss 0.6151567101478577 - f1-score (micro avg)  0.8005\n",
      "2021-11-02 16:15:25,240 BAD EPOCHS (no improvement): 0\n",
      "2021-11-02 16:15:25,246 saving best model\n",
      "2021-11-02 16:16:41,378 ----------------------------------------------------------------------------------------------------\n",
      "2021-11-02 16:16:53,883 epoch 2 - iter 14/140 - loss 0.76343127 - samples/sec: 36.36 - lr: 0.100000\n",
      "2021-11-02 16:17:04,040 epoch 2 - iter 28/140 - loss 0.73741520 - samples/sec: 44.37 - lr: 0.100000\n",
      "2021-11-02 16:17:15,511 epoch 2 - iter 42/140 - loss 0.72603552 - samples/sec: 39.15 - lr: 0.100000\n",
      "2021-11-02 16:17:24,740 epoch 2 - iter 56/140 - loss 0.70528242 - samples/sec: 48.66 - lr: 0.100000\n",
      "2021-11-02 16:17:34,816 epoch 2 - iter 70/140 - loss 0.69611288 - samples/sec: 44.51 - lr: 0.100000\n",
      "2021-11-02 16:17:45,753 epoch 2 - iter 84/140 - loss 0.68412339 - samples/sec: 41.00 - lr: 0.100000\n",
      "2021-11-02 16:17:55,589 epoch 2 - iter 98/140 - loss 0.67523873 - samples/sec: 45.57 - lr: 0.100000\n",
      "2021-11-02 16:18:04,740 epoch 2 - iter 112/140 - loss 0.66742869 - samples/sec: 48.99 - lr: 0.100000\n",
      "2021-11-02 16:18:14,669 epoch 2 - iter 126/140 - loss 0.65861811 - samples/sec: 45.15 - lr: 0.100000\n",
      "2021-11-02 16:18:22,729 epoch 2 - iter 140/140 - loss 0.64929599 - samples/sec: 55.60 - lr: 0.100000\n",
      "2021-11-02 16:18:22,731 ----------------------------------------------------------------------------------------------------\n",
      "2021-11-02 16:18:22,732 EPOCH 2 done: loss 0.6493 - lr 0.1000000\n",
      "2021-11-02 16:18:32,051 DEV : loss 0.37861642241477966 - f1-score (micro avg)  0.8779\n",
      "2021-11-02 16:18:32,088 BAD EPOCHS (no improvement): 0\n",
      "2021-11-02 16:18:32,090 saving best model\n",
      "2021-11-02 16:19:23,786 ----------------------------------------------------------------------------------------------------\n",
      "2021-11-02 16:19:35,064 epoch 3 - iter 14/140 - loss 0.54598402 - samples/sec: 40.86 - lr: 0.100000\n",
      "2021-11-02 16:19:47,080 epoch 3 - iter 28/140 - loss 0.55930133 - samples/sec: 37.50 - lr: 0.100000\n",
      "2021-11-02 16:19:56,022 epoch 3 - iter 42/140 - loss 0.55332319 - samples/sec: 50.31 - lr: 0.100000\n",
      "2021-11-02 16:20:05,327 epoch 3 - iter 56/140 - loss 0.55146246 - samples/sec: 48.28 - lr: 0.100000\n",
      "2021-11-02 16:20:14,426 epoch 3 - iter 70/140 - loss 0.54798026 - samples/sec: 49.30 - lr: 0.100000\n",
      "2021-11-02 16:20:22,586 epoch 3 - iter 84/140 - loss 0.54490393 - samples/sec: 55.03 - lr: 0.100000\n",
      "2021-11-02 16:20:31,591 epoch 3 - iter 98/140 - loss 0.54009335 - samples/sec: 49.79 - lr: 0.100000\n",
      "2021-11-02 16:20:41,284 epoch 3 - iter 112/140 - loss 0.53838166 - samples/sec: 46.26 - lr: 0.100000\n",
      "2021-11-02 16:20:50,477 epoch 3 - iter 126/140 - loss 0.53523850 - samples/sec: 48.77 - lr: 0.100000\n",
      "2021-11-02 16:20:59,520 epoch 3 - iter 140/140 - loss 0.53158367 - samples/sec: 49.56 - lr: 0.100000\n",
      "2021-11-02 16:20:59,523 ----------------------------------------------------------------------------------------------------\n",
      "2021-11-02 16:20:59,525 EPOCH 3 done: loss 0.5316 - lr 0.1000000\n",
      "2021-11-02 16:21:06,353 DEV : loss 0.3279886543750763 - f1-score (micro avg)  0.8965\n",
      "2021-11-02 16:21:06,388 BAD EPOCHS (no improvement): 0\n",
      "2021-11-02 16:21:06,390 saving best model\n",
      "2021-11-02 16:21:54,842 ----------------------------------------------------------------------------------------------------\n",
      "2021-11-02 16:22:06,094 epoch 4 - iter 14/140 - loss 0.50599012 - samples/sec: 40.71 - lr: 0.100000\n",
      "2021-11-02 16:22:14,365 epoch 4 - iter 28/140 - loss 0.49636598 - samples/sec: 54.56 - lr: 0.100000\n",
      "2021-11-02 16:22:22,795 epoch 4 - iter 42/140 - loss 0.49168269 - samples/sec: 53.37 - lr: 0.100000\n",
      "2021-11-02 16:22:32,953 epoch 4 - iter 56/140 - loss 0.48670357 - samples/sec: 44.22 - lr: 0.100000\n",
      "2021-11-02 16:22:42,301 epoch 4 - iter 70/140 - loss 0.48554044 - samples/sec: 48.01 - lr: 0.100000\n",
      "2021-11-02 16:22:50,759 epoch 4 - iter 84/140 - loss 0.48306538 - samples/sec: 53.10 - lr: 0.100000\n",
      "2021-11-02 16:23:00,966 epoch 4 - iter 98/140 - loss 0.48625052 - samples/sec: 43.92 - lr: 0.100000\n",
      "2021-11-02 16:23:11,996 epoch 4 - iter 112/140 - loss 0.48399233 - samples/sec: 40.66 - lr: 0.100000\n",
      "2021-11-02 16:23:22,632 epoch 4 - iter 126/140 - loss 0.48188118 - samples/sec: 42.14 - lr: 0.100000\n",
      "2021-11-02 16:23:30,707 epoch 4 - iter 140/140 - loss 0.48088241 - samples/sec: 55.50 - lr: 0.100000\n",
      "2021-11-02 16:23:30,709 ----------------------------------------------------------------------------------------------------\n",
      "2021-11-02 16:23:30,710 EPOCH 4 done: loss 0.4809 - lr 0.1000000\n",
      "2021-11-02 16:23:38,144 DEV : loss 0.2997603416442871 - f1-score (micro avg)  0.9048\n",
      "2021-11-02 16:23:38,181 BAD EPOCHS (no improvement): 0\n",
      "2021-11-02 16:23:38,183 saving best model\n",
      "2021-11-02 16:24:21,864 ----------------------------------------------------------------------------------------------------\n",
      "2021-11-02 16:24:31,274 epoch 5 - iter 14/140 - loss 0.46317474 - samples/sec: 48.51 - lr: 0.100000\n",
      "2021-11-02 16:24:43,246 epoch 5 - iter 28/140 - loss 0.46866860 - samples/sec: 38.06 - lr: 0.100000\n"
     ]
    },
    {
     "name": "stdout",
     "output_type": "stream",
     "text": [
      "2021-11-02 16:24:52,730 epoch 5 - iter 42/140 - loss 0.46721888 - samples/sec: 47.43 - lr: 0.100000\n",
      "2021-11-02 16:25:03,459 epoch 5 - iter 56/140 - loss 0.45788992 - samples/sec: 41.85 - lr: 0.100000\n",
      "2021-11-02 16:25:12,947 epoch 5 - iter 70/140 - loss 0.45909691 - samples/sec: 47.31 - lr: 0.100000\n",
      "2021-11-02 16:25:23,522 epoch 5 - iter 84/140 - loss 0.45974123 - samples/sec: 42.41 - lr: 0.100000\n",
      "2021-11-02 16:25:34,623 epoch 5 - iter 98/140 - loss 0.45866679 - samples/sec: 40.39 - lr: 0.100000\n",
      "2021-11-02 16:25:46,196 epoch 5 - iter 112/140 - loss 0.46099342 - samples/sec: 38.72 - lr: 0.100000\n",
      "2021-11-02 16:25:57,619 epoch 5 - iter 126/140 - loss 0.45824915 - samples/sec: 39.23 - lr: 0.100000\n",
      "2021-11-02 16:26:06,996 epoch 5 - iter 140/140 - loss 0.45694669 - samples/sec: 47.79 - lr: 0.100000\n",
      "2021-11-02 16:26:06,997 ----------------------------------------------------------------------------------------------------\n",
      "2021-11-02 16:26:06,999 EPOCH 5 done: loss 0.4569 - lr 0.1000000\n",
      "2021-11-02 16:26:15,062 DEV : loss 0.2932158410549164 - f1-score (micro avg)  0.9036\n",
      "2021-11-02 16:26:15,101 BAD EPOCHS (no improvement): 1\n",
      "2021-11-02 16:26:15,103 ----------------------------------------------------------------------------------------------------\n",
      "2021-11-02 16:26:25,706 epoch 6 - iter 14/140 - loss 0.44099737 - samples/sec: 42.26 - lr: 0.100000\n",
      "2021-11-02 16:26:35,534 epoch 6 - iter 28/140 - loss 0.44921869 - samples/sec: 45.60 - lr: 0.100000\n",
      "2021-11-02 16:26:46,870 epoch 6 - iter 42/140 - loss 0.44252018 - samples/sec: 39.53 - lr: 0.100000\n",
      "2021-11-02 16:26:56,861 epoch 6 - iter 56/140 - loss 0.44223561 - samples/sec: 44.85 - lr: 0.100000\n",
      "2021-11-02 16:27:09,619 epoch 6 - iter 70/140 - loss 0.43515877 - samples/sec: 35.13 - lr: 0.100000\n",
      "2021-11-02 16:27:20,915 epoch 6 - iter 84/140 - loss 0.43540685 - samples/sec: 39.67 - lr: 0.100000\n",
      "2021-11-02 16:27:30,114 epoch 6 - iter 98/140 - loss 0.43580290 - samples/sec: 48.70 - lr: 0.100000\n",
      "2021-11-02 16:27:42,544 epoch 6 - iter 112/140 - loss 0.43556153 - samples/sec: 36.06 - lr: 0.100000\n",
      "2021-11-02 16:27:53,851 epoch 6 - iter 126/140 - loss 0.43797845 - samples/sec: 39.64 - lr: 0.100000\n",
      "2021-11-02 16:28:03,663 epoch 6 - iter 140/140 - loss 0.43785885 - samples/sec: 45.68 - lr: 0.100000\n",
      "2021-11-02 16:28:03,664 ----------------------------------------------------------------------------------------------------\n",
      "2021-11-02 16:28:03,666 EPOCH 6 done: loss 0.4379 - lr 0.1000000\n",
      "2021-11-02 16:28:13,492 DEV : loss 0.2780948281288147 - f1-score (micro avg)  0.9099\n",
      "2021-11-02 16:28:13,530 BAD EPOCHS (no improvement): 0\n",
      "2021-11-02 16:28:13,531 saving best model\n",
      "2021-11-02 16:28:49,684 ----------------------------------------------------------------------------------------------------\n",
      "2021-11-02 16:29:01,598 epoch 7 - iter 14/140 - loss 0.43766654 - samples/sec: 38.20 - lr: 0.100000\n",
      "2021-11-02 16:29:12,704 epoch 7 - iter 28/140 - loss 0.43015432 - samples/sec: 40.83 - lr: 0.100000\n",
      "2021-11-02 16:29:23,903 epoch 7 - iter 42/140 - loss 0.42757804 - samples/sec: 40.32 - lr: 0.100000\n",
      "2021-11-02 16:29:35,645 epoch 7 - iter 56/140 - loss 0.42774066 - samples/sec: 38.27 - lr: 0.100000\n",
      "2021-11-02 16:29:46,249 epoch 7 - iter 70/140 - loss 0.42284632 - samples/sec: 42.33 - lr: 0.100000\n",
      "2021-11-02 16:29:58,140 epoch 7 - iter 84/140 - loss 0.42342045 - samples/sec: 37.72 - lr: 0.100000\n",
      "2021-11-02 16:30:06,761 epoch 7 - iter 98/140 - loss 0.42544541 - samples/sec: 52.04 - lr: 0.100000\n",
      "2021-11-02 16:30:19,178 epoch 7 - iter 112/140 - loss 0.42360353 - samples/sec: 36.10 - lr: 0.100000\n",
      "2021-11-02 16:30:28,302 epoch 7 - iter 126/140 - loss 0.42214578 - samples/sec: 49.14 - lr: 0.100000\n",
      "2021-11-02 16:30:38,903 epoch 7 - iter 140/140 - loss 0.42165777 - samples/sec: 42.28 - lr: 0.100000\n",
      "2021-11-02 16:30:38,905 ----------------------------------------------------------------------------------------------------\n",
      "2021-11-02 16:30:38,906 EPOCH 7 done: loss 0.4217 - lr 0.1000000\n",
      "2021-11-02 16:30:46,851 DEV : loss 0.2822236120700836 - f1-score (micro avg)  0.9076\n",
      "2021-11-02 16:30:46,889 BAD EPOCHS (no improvement): 1\n",
      "2021-11-02 16:30:46,892 ----------------------------------------------------------------------------------------------------\n",
      "2021-11-02 16:30:55,876 epoch 8 - iter 14/140 - loss 0.40331722 - samples/sec: 49.88 - lr: 0.100000\n",
      "2021-11-02 16:31:07,097 epoch 8 - iter 28/140 - loss 0.39989557 - samples/sec: 39.94 - lr: 0.100000\n",
      "2021-11-02 16:31:18,888 epoch 8 - iter 42/140 - loss 0.40493660 - samples/sec: 38.01 - lr: 0.100000\n",
      "2021-11-02 16:31:28,531 epoch 8 - iter 56/140 - loss 0.39953711 - samples/sec: 46.47 - lr: 0.100000\n",
      "2021-11-02 16:31:41,701 epoch 8 - iter 70/140 - loss 0.40307945 - samples/sec: 34.02 - lr: 0.100000\n",
      "2021-11-02 16:31:53,221 epoch 8 - iter 84/140 - loss 0.40544946 - samples/sec: 38.90 - lr: 0.100000\n",
      "2021-11-02 16:32:06,062 epoch 8 - iter 98/140 - loss 0.40845021 - samples/sec: 34.89 - lr: 0.100000\n",
      "2021-11-02 16:32:14,060 epoch 8 - iter 112/140 - loss 0.40833864 - samples/sec: 56.04 - lr: 0.100000\n",
      "2021-11-02 16:32:25,937 epoch 8 - iter 126/140 - loss 0.41218037 - samples/sec: 37.73 - lr: 0.100000\n",
      "2021-11-02 16:32:35,384 epoch 8 - iter 140/140 - loss 0.41239707 - samples/sec: 47.44 - lr: 0.100000\n",
      "2021-11-02 16:32:35,385 ----------------------------------------------------------------------------------------------------\n",
      "2021-11-02 16:32:35,387 EPOCH 8 done: loss 0.4124 - lr 0.1000000\n",
      "2021-11-02 16:32:42,180 DEV : loss 0.2648150622844696 - f1-score (micro avg)  0.9153\n",
      "2021-11-02 16:32:42,217 BAD EPOCHS (no improvement): 0\n",
      "2021-11-02 16:32:42,218 saving best model\n",
      "2021-11-02 16:33:15,375 ----------------------------------------------------------------------------------------------------\n",
      "2021-11-02 16:33:25,434 epoch 9 - iter 14/140 - loss 0.40854140 - samples/sec: 45.34 - lr: 0.100000\n",
      "2021-11-02 16:33:34,051 epoch 9 - iter 28/140 - loss 0.41553966 - samples/sec: 52.30 - lr: 0.100000\n",
      "2021-11-02 16:33:42,685 epoch 9 - iter 42/140 - loss 0.40966829 - samples/sec: 52.08 - lr: 0.100000\n",
      "2021-11-02 16:33:52,518 epoch 9 - iter 56/140 - loss 0.40485616 - samples/sec: 45.70 - lr: 0.100000\n",
      "2021-11-02 16:34:03,054 epoch 9 - iter 70/140 - loss 0.40068353 - samples/sec: 42.59 - lr: 0.100000\n",
      "2021-11-02 16:34:14,458 epoch 9 - iter 84/140 - loss 0.39917274 - samples/sec: 39.33 - lr: 0.100000\n",
      "2021-11-02 16:34:25,254 epoch 9 - iter 98/140 - loss 0.40215483 - samples/sec: 41.60 - lr: 0.100000\n",
      "2021-11-02 16:34:35,020 epoch 9 - iter 112/140 - loss 0.40187124 - samples/sec: 45.91 - lr: 0.100000\n",
      "2021-11-02 16:34:44,236 epoch 9 - iter 126/140 - loss 0.40228065 - samples/sec: 48.65 - lr: 0.100000\n",
      "2021-11-02 16:34:52,925 epoch 9 - iter 140/140 - loss 0.40134709 - samples/sec: 51.57 - lr: 0.100000\n",
      "2021-11-02 16:34:52,927 ----------------------------------------------------------------------------------------------------\n",
      "2021-11-02 16:34:52,929 EPOCH 9 done: loss 0.4013 - lr 0.1000000\n",
      "2021-11-02 16:35:00,072 DEV : loss 0.26372432708740234 - f1-score (micro avg)  0.9144\n",
      "2021-11-02 16:35:00,107 BAD EPOCHS (no improvement): 1\n",
      "2021-11-02 16:35:00,109 ----------------------------------------------------------------------------------------------------\n",
      "2021-11-02 16:35:08,182 epoch 10 - iter 14/140 - loss 0.39511169 - samples/sec: 55.50 - lr: 0.100000\n",
      "2021-11-02 16:35:17,389 epoch 10 - iter 28/140 - loss 0.38939823 - samples/sec: 48.67 - lr: 0.100000\n",
      "2021-11-02 16:35:26,562 epoch 10 - iter 42/140 - loss 0.39245743 - samples/sec: 48.85 - lr: 0.100000\n",
      "2021-11-02 16:35:34,715 epoch 10 - iter 56/140 - loss 0.38863355 - samples/sec: 54.97 - lr: 0.100000\n",
      "2021-11-02 16:35:44,290 epoch 10 - iter 70/140 - loss 0.38887053 - samples/sec: 46.80 - lr: 0.100000\n",
      "2021-11-02 16:35:54,400 epoch 10 - iter 84/140 - loss 0.39196264 - samples/sec: 44.32 - lr: 0.100000\n",
      "2021-11-02 16:36:03,245 epoch 10 - iter 98/140 - loss 0.39364351 - samples/sec: 50.66 - lr: 0.100000\n",
      "2021-11-02 16:36:13,899 epoch 10 - iter 112/140 - loss 0.39260401 - samples/sec: 42.05 - lr: 0.100000\n",
      "2021-11-02 16:36:25,270 epoch 10 - iter 126/140 - loss 0.39231865 - samples/sec: 39.43 - lr: 0.100000\n",
      "2021-11-02 16:36:35,063 epoch 10 - iter 140/140 - loss 0.39172362 - samples/sec: 45.76 - lr: 0.100000\n",
      "2021-11-02 16:36:35,065 ----------------------------------------------------------------------------------------------------\n"
     ]
    },
    {
     "name": "stdout",
     "output_type": "stream",
     "text": [
      "2021-11-02 16:36:35,067 EPOCH 10 done: loss 0.3917 - lr 0.1000000\n",
      "2021-11-02 16:36:45,040 DEV : loss 0.25866127014160156 - f1-score (micro avg)  0.9164\n",
      "2021-11-02 16:36:45,078 BAD EPOCHS (no improvement): 0\n",
      "2021-11-02 16:36:45,079 saving best model\n",
      "2021-11-02 16:37:52,946 ----------------------------------------------------------------------------------------------------\n",
      "2021-11-02 16:37:53,041 loading file resources\\taggers\\Indonesia-POS-TAG-Sugih\\best-model.pt\n",
      "2021-11-02 16:38:16,911 0.9217\t0.9217\t0.9217\t0.9217\n",
      "2021-11-02 16:38:16,935 \n",
      "Results:\n",
      "- F-score (micro) 0.9217\n",
      "- F-score (macro) 0.8522\n",
      "- Accuracy 0.9217\n",
      "\n",
      "By class:\n",
      "              precision    recall  f1-score   support\n",
      "\n",
      "        NOUN     0.8892    0.8907    0.8900      2488\n",
      "       PROPN     0.9018    0.9361    0.9186      2207\n",
      "       PUNCT     0.9946    0.9994    0.9970      1645\n",
      "        VERB     0.9405    0.9360    0.9383      1250\n",
      "         ADP     0.9517    0.9575    0.9546      1153\n",
      "         ADV     0.8039    0.8501    0.8263       487\n",
      "        PRON     0.9790    0.9378    0.9579       498\n",
      "         NUM     0.9218    0.9558    0.9385       407\n",
      "         DET     0.9350    0.9274    0.9312       372\n",
      "         ADJ     0.8697    0.6327    0.7325       422\n",
      "       CCONJ     0.9883    0.9013    0.9428       375\n",
      "       SCONJ     0.7033    0.9014    0.7901       142\n",
      "         AUX     0.9897    1.0000    0.9948        96\n",
      "        PART     0.9333    0.8571    0.8936        49\n",
      "         SYM     1.0000    0.8667    0.9286        30\n",
      "           X     0.0000    0.0000    0.0000         1\n",
      "\n",
      "   micro avg     0.9217    0.9217    0.9217     11622\n",
      "   macro avg     0.8626    0.8469    0.8522     11622\n",
      "weighted avg     0.9226    0.9217    0.9211     11622\n",
      " samples avg     0.9217    0.9217    0.9217     11622\n",
      "\n",
      "2021-11-02 16:38:16,936 ----------------------------------------------------------------------------------------------------\n"
     ]
    },
    {
     "data": {
      "text/plain": [
       "{'test_score': 0.9217002237136466,\n",
       " 'dev_score_history': [0.8005451338784673,\n",
       "  0.8779060445727113,\n",
       "  0.8965047298380632,\n",
       "  0.9047619047619048,\n",
       "  0.903639570306237,\n",
       "  0.9098925765592433,\n",
       "  0.9076479076479076,\n",
       "  0.9152637485970819,\n",
       "  0.9143819143819144,\n",
       "  0.9163860830527497],\n",
       " 'train_loss_history': [1.3493059707786306,\n",
       "  0.6492959942491263,\n",
       "  0.5315836698717235,\n",
       "  0.480882413185785,\n",
       "  0.45694668545416306,\n",
       "  0.4378588506296619,\n",
       "  0.42165776535582156,\n",
       "  0.4123970654441105,\n",
       "  0.40134709479741226,\n",
       "  0.39172361557450436],\n",
       " 'dev_loss_history': [tensor(0.6152),\n",
       "  tensor(0.3786),\n",
       "  tensor(0.3280),\n",
       "  tensor(0.2998),\n",
       "  tensor(0.2932),\n",
       "  tensor(0.2781),\n",
       "  tensor(0.2822),\n",
       "  tensor(0.2648),\n",
       "  tensor(0.2637),\n",
       "  tensor(0.2587)]}"
      ]
     },
     "execution_count": 73,
     "metadata": {},
     "output_type": "execute_result"
    }
   ],
   "source": [
    "from flair.trainers import ModelTrainer\n",
    "trainer: ModelTrainer = ModelTrainer(tagger, corpus)\n",
    "trainer.train('resources/taggers/Indonesia-POS-TAG-Sugih',\n",
    " learning_rate=0.1,\n",
    " mini_batch_size=32,\n",
    " max_epochs=10)"
   ]
  },
  {
   "cell_type": "code",
   "execution_count": 75,
   "metadata": {},
   "outputs": [
    {
     "name": "stdout",
     "output_type": "stream",
     "text": [
      "2021-11-02 18:11:25,058 loading file resources/taggers/Indonesia-POS-TAG-Sugih/best-model.pt\n",
      "masyarakat <NOUN> percaya <VERB> tusuk <NOUN> jarum <NOUN> daun <NOUN> telinga <NOUN> tolong <VERB> serang <NOUN> stroke <NOUN> nyata <ADJ> informasi <NOUN> salah <DET> baca <NOUN> postingan <NOUN> media <NOUN> sosial <NOUN> informasi <NOUN> metode <NOUN> tusuk <NOUN> jarum <NOUN> daun <NOUN> telinga <NOUN> tolong <VERB> serang <NOUN> stroke <NOUN> pesan <NOUN> ulang <NOUN> sebar <NOUN> percaya <VERB> pesan <NOUN> tindak <NOUN> laku <NOUN> pasien <NOUN> stroke <NOUN> pasien <NOUN> jatuh <VERB> kamar <NOUN> mandi <NOUN> kamar <NOUN> tidur <NOUN> imbau <ADP> pindah <VERB> anjur <ADP> ambil <VERB> jarum <NOUN> steril <NOUN> tusuk <NOUN> darah <NOUN> korban <NOUN> tetes <NOUN> tetes <NOUN> pesan <NOUN> mulut <NOUN> pasien <NOUN> miring <ADJ> tarik <NOUN> daun <NOUN> telinga <NOUN> merah <ADJ> langsung <ADP> tusuk <NOUN> daun <NOUN> telinga <NOUN> jarum <NOUN> steril <NOUN> darah <NOUN> tetes <NOUN> percaya <VERB> lancar <NOUN> bantu <NOUN> oksigen <NOUN> masuk <VERB> tubuh <NOUN> pasien <NOUN> serang <NOUN> stroke <NOUN> pandang <NOUN> medis <ADJ> kait <NOUN> informasi <NOUN> tusuk <NOUN> daun <NOUN> telinga <NOUN> jarum <NOUN> serang <NOUN> stroke <NOUN> percaya <VERB> masyarakat <NOUN> bukti <NOUN> ilmiah <NOUN> awat <NOUN> evidence <NOUN> based <NOUN> saran <NOUN> laku <NOUN> pasien <NOUN> stroke <NOUN> informasi <NOUN> enny <PROPN> mulyatsih <ADP> kepala <NOUN> bidang <NOUN> awat <NOUN> pusat <NOUN> otak <NOUN> nasional <ADJ> depok <PROPN> news <PROPN> seminar <PROPN> workshop <PROPN> awat <NOUN> inovasi <NOUN> tangan <NOUN> efektif <ADJ> edukasi <NOUN> peluang <NOUN> home <NOUN> care <NOUN> pasien <NOUN> stroke <NOUN> lembaga <NOUN> madaniah <NOUN> health <NOUN> training <NOUN> centre <NOUN> rumpun <NOUN> ilmu <NOUN> awat <NOUN> universitas <NOUN> indonesia <PROPN> sabtu <PROPN> dede <PROPN> suhartini <PROPN> kepala <NOUN> ruang <NOUN> stroke <NOUN> unit <NOUN> rscm <NOUN> temu <NOUN> kait <NOUN> rasional <ADJ> tusuk <NOUN> jarum <NOUN> daun <NOUN> telinga <NOUN> serang <NOUN> stroke <NOUN> hubung <NOUN> orang <NOUN> stroke <NOUN> buluh <NOUN> darah <NOUN> oksigen <NOUN> darah <NOUN> data <NOUN> evidence <NOUN> based <NOUN> hasil <NOUN> laku <NOUN> tekan <NOUN> temu <NOUN> anggota <NOUN> keluarga <NOUN> orang <NOUN> serang <NOUN> stroke <NOUN> laku <NOUN> tindak <NOUN> tolong <ADV> cari <VERB> lapang <NOUN> aman <ADJ> baring <VERB> kepala <NOUN> pasien <NOUN> miring <ADJ> derajat <NOUN> jaga <ADP> jalan <NOUN> napas <NOUN> lancar <VERB> topang <NOUN> dagu <NOUN> sedak <ADP> laku <NOUN> tolong <NOUN> jalan <NOUN> rumah <NOUN> sakit <NOUN> tolong <NOUN> bukti <NOUN> mmpu <PRON> tahan <ADJ> jalan <NOUN> napas <NOUN> lancar <VERB> pasien <NOUN> bawa <VERB> rumah <NOUN> sakit <NOUN> pasang <NOUN> infus <NOUN> oksigen <NOUN> mesti <ADV> tugas <NOUN> jalan <NOUN> indonesia <PROPN> latih <NOUN> tolong <VERB> hadap <ADP> serang <NOUN> stroke <NOUN> polisi <NOUN> lintas <NOUN> tugas <NOUN> madam <NOUN> bakar <NOUN> tugas <NOUN> jalan <NOUN> masyarakat <NOUN> simpul <NOUN> enny <PROPN>\n"
     ]
    }
   ],
   "source": [
    "from flair.data import Sentence\n",
    "sentence = Sentence(cloud)\n",
    "tag_pos = SequenceTagger.load('resources/taggers/Indonesia-POS-TAG-Sugih/best-model.pt')\n",
    "tag_pos.predict(sentence)\n",
    "print(sentence.to_tagged_string())"
   ]
  },
  {
   "cell_type": "code",
   "execution_count": 61,
   "metadata": {},
   "outputs": [
    {
     "data": {
      "text/html": [
       "<details>\n",
       "<summary>Click to view session information</summary>\n",
       "<pre>\n",
       "-----\n",
       "PyQt5               NA\n",
       "Sastrawi            NA\n",
       "docx                0.8.11\n",
       "gensim              3.8.0\n",
       "matplotlib          3.1.3\n",
       "nltk                3.5\n",
       "numpy               1.20.3\n",
       "pandas              1.0.3\n",
       "session_info        1.0.0\n",
       "slate3k             NA\n",
       "wordcloud           1.8.1\n",
       "-----\n",
       "</pre>\n",
       "<details>\n",
       "<summary>Click to view modules imported as dependencies</summary>\n",
       "<pre>\n",
       "OpenSSL             19.1.0\n",
       "PIL                 7.1.2\n",
       "backcall            0.1.0\n",
       "boto                2.49.0\n",
       "boto3               1.9.66\n",
       "botocore            1.12.67\n",
       "bottleneck          1.3.2\n",
       "cachetools          4.1.1\n",
       "certifi             2021.10.08\n",
       "cffi                1.14.0\n",
       "chardet             3.0.4\n",
       "colorama            0.4.3\n",
       "cryptography        2.9.2\n",
       "cycler              0.10.0\n",
       "cython_runtime      NA\n",
       "dateutil            2.8.1\n",
       "decorator           4.4.2\n",
       "google              NA\n",
       "grpc                1.27.2\n",
       "idna                2.10\n",
       "ipykernel           5.1.4\n",
       "ipython_genutils    0.2.0\n",
       "jedi                0.15.2\n",
       "jmespath            0.10.0\n",
       "joblib              0.14.1\n",
       "kiwisolver          1.2.0\n",
       "lxml                4.5.0\n",
       "mpl_toolkits        NA\n",
       "nt                  NA\n",
       "ntsecuritycon       NA\n",
       "parso               0.5.2\n",
       "pdfminer            1.3.1\n",
       "pickleshare         0.7.5\n",
       "pkg_resources       NA\n",
       "ply                 3.11\n",
       "prompt_toolkit      3.0.4\n",
       "psutil              5.7.0\n",
       "pycrfsuite          NA\n",
       "pygments            2.6.1\n",
       "pyparsing           2.4.7\n",
       "pythoncom           NA\n",
       "pytz                2020.1\n",
       "pywintypes          NA\n",
       "regex               2.5.83\n",
       "requests            2.24.0\n",
       "scipy               1.4.1\n",
       "sip                 NA\n",
       "six                 1.15.0\n",
       "sklearn             0.22.2.post1\n",
       "smart_open          2.1.0\n",
       "socks               1.7.1\n",
       "sphinxcontrib       NA\n",
       "storemagic          NA\n",
       "tornado             6.0.4\n",
       "traitlets           4.3.3\n",
       "urllib3             1.25.9\n",
       "wcwidth             NA\n",
       "win32api            NA\n",
       "win32com            NA\n",
       "win32security       NA\n",
       "zmq                 18.1.1\n",
       "</pre>\n",
       "</details> <!-- seems like this ends pre, so might as well be explicit -->\n",
       "<pre>\n",
       "-----\n",
       "IPython             7.13.0\n",
       "jupyter_client      6.1.3\n",
       "jupyter_core        4.6.3\n",
       "jupyterlab          2.2.0\n",
       "notebook            6.0.3\n",
       "-----\n",
       "Python 3.7.7 (default, May  6 2020, 11:45:54) [MSC v.1916 64 bit (AMD64)]\n",
       "Windows-10-10.0.19041-SP0\n",
       "-----\n",
       "Session information updated at 2021-11-03 19:49\n",
       "</pre>\n",
       "</details>"
      ],
      "text/plain": [
       "<IPython.core.display.HTML object>"
      ]
     },
     "execution_count": 61,
     "metadata": {},
     "output_type": "execute_result"
    }
   ],
   "source": [
    "import session_info\n",
    "session_info.show()"
   ]
  },
  {
   "cell_type": "code",
   "execution_count": null,
   "metadata": {},
   "outputs": [],
   "source": []
  }
 ],
 "metadata": {
  "kernelspec": {
   "display_name": "Python 3",
   "language": "python",
   "name": "python3"
  },
  "language_info": {
   "codemirror_mode": {
    "name": "ipython",
    "version": 3
   },
   "file_extension": ".py",
   "mimetype": "text/x-python",
   "name": "python",
   "nbconvert_exporter": "python",
   "pygments_lexer": "ipython3",
   "version": "3.7.7"
  }
 },
 "nbformat": 4,
 "nbformat_minor": 4
}
